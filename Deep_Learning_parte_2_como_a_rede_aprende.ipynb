{
  "nbformat": 4,
  "nbformat_minor": 0,
  "metadata": {
    "colab": {
      "name": "Deep_Learning_parte_2_como_a_rede_aprende.ipynb",
      "provenance": [],
      "collapsed_sections": [],
      "toc_visible": true,
      "include_colab_link": true
    },
    "kernelspec": {
      "name": "python3",
      "display_name": "Python 3"
    },
    "language_info": {
      "name": "python"
    }
  },
  "cells": [
    {
      "cell_type": "markdown",
      "metadata": {
        "id": "view-in-github",
        "colab_type": "text"
      },
      "source": [
        "<a href=\"https://colab.research.google.com/github/LucasVale98/Formacao_Machine_Learning_Avancada/blob/main/Deep_Learning_parte_2_como_a_rede_aprende.ipynb\" target=\"_parent\"><img src=\"https://colab.research.google.com/assets/colab-badge.svg\" alt=\"Open In Colab\"/></a>"
      ]
    },
    {
      "cell_type": "markdown",
      "source": [
        "# **01 Indo por dentro da rede neural**"
      ],
      "metadata": {
        "id": "bnlnudI0myo9"
      }
    },
    {
      "cell_type": "markdown",
      "source": [
        "## **O que acontece na rede**"
      ],
      "metadata": {
        "id": "B2tkWrwAqxHZ"
      }
    },
    {
      "cell_type": "code",
      "source": [
        "import pandas as pd\n",
        "import numpy as np\n",
        "import matplotlib.pyplot as plt\n",
        "\n",
        "import tensorflow\n",
        "from tensorflow import keras\n",
        "from tensorflow.keras.models import load_model"
      ],
      "metadata": {
        "id": "rGWF3F6kqWwl"
      },
      "execution_count": null,
      "outputs": []
    },
    {
      "cell_type": "code",
      "source": [
        "dataset = keras.datasets.fashion_mnist\n",
        "dataset.load_data()"
      ],
      "metadata": {
        "colab": {
          "base_uri": "https://localhost:8080/"
        },
        "id": "7kLy4NVuroP0",
        "outputId": "f76822ce-24c7-4015-c34b-f0b169520c52"
      },
      "execution_count": null,
      "outputs": [
        {
          "output_type": "stream",
          "name": "stdout",
          "text": [
            "Downloading data from https://storage.googleapis.com/tensorflow/tf-keras-datasets/train-labels-idx1-ubyte.gz\n",
            "32768/29515 [=================================] - 0s 0us/step\n",
            "40960/29515 [=========================================] - 0s 0us/step\n",
            "Downloading data from https://storage.googleapis.com/tensorflow/tf-keras-datasets/train-images-idx3-ubyte.gz\n",
            "26427392/26421880 [==============================] - 0s 0us/step\n",
            "26435584/26421880 [==============================] - 0s 0us/step\n",
            "Downloading data from https://storage.googleapis.com/tensorflow/tf-keras-datasets/t10k-labels-idx1-ubyte.gz\n",
            "16384/5148 [===============================================================================================] - 0s 0us/step\n",
            "Downloading data from https://storage.googleapis.com/tensorflow/tf-keras-datasets/t10k-images-idx3-ubyte.gz\n",
            "4423680/4422102 [==============================] - 0s 0us/step\n",
            "4431872/4422102 [==============================] - 0s 0us/step\n"
          ]
        },
        {
          "output_type": "execute_result",
          "data": {
            "text/plain": [
              "((array([[[0, 0, 0, ..., 0, 0, 0],\n",
              "          [0, 0, 0, ..., 0, 0, 0],\n",
              "          [0, 0, 0, ..., 0, 0, 0],\n",
              "          ...,\n",
              "          [0, 0, 0, ..., 0, 0, 0],\n",
              "          [0, 0, 0, ..., 0, 0, 0],\n",
              "          [0, 0, 0, ..., 0, 0, 0]],\n",
              "  \n",
              "         [[0, 0, 0, ..., 0, 0, 0],\n",
              "          [0, 0, 0, ..., 0, 0, 0],\n",
              "          [0, 0, 0, ..., 0, 0, 0],\n",
              "          ...,\n",
              "          [0, 0, 0, ..., 0, 0, 0],\n",
              "          [0, 0, 0, ..., 0, 0, 0],\n",
              "          [0, 0, 0, ..., 0, 0, 0]],\n",
              "  \n",
              "         [[0, 0, 0, ..., 0, 0, 0],\n",
              "          [0, 0, 0, ..., 0, 0, 0],\n",
              "          [0, 0, 0, ..., 0, 0, 0],\n",
              "          ...,\n",
              "          [0, 0, 0, ..., 0, 0, 0],\n",
              "          [0, 0, 0, ..., 0, 0, 0],\n",
              "          [0, 0, 0, ..., 0, 0, 0]],\n",
              "  \n",
              "         ...,\n",
              "  \n",
              "         [[0, 0, 0, ..., 0, 0, 0],\n",
              "          [0, 0, 0, ..., 0, 0, 0],\n",
              "          [0, 0, 0, ..., 0, 0, 0],\n",
              "          ...,\n",
              "          [0, 0, 0, ..., 0, 0, 0],\n",
              "          [0, 0, 0, ..., 0, 0, 0],\n",
              "          [0, 0, 0, ..., 0, 0, 0]],\n",
              "  \n",
              "         [[0, 0, 0, ..., 0, 0, 0],\n",
              "          [0, 0, 0, ..., 0, 0, 0],\n",
              "          [0, 0, 0, ..., 0, 0, 0],\n",
              "          ...,\n",
              "          [0, 0, 0, ..., 0, 0, 0],\n",
              "          [0, 0, 0, ..., 0, 0, 0],\n",
              "          [0, 0, 0, ..., 0, 0, 0]],\n",
              "  \n",
              "         [[0, 0, 0, ..., 0, 0, 0],\n",
              "          [0, 0, 0, ..., 0, 0, 0],\n",
              "          [0, 0, 0, ..., 0, 0, 0],\n",
              "          ...,\n",
              "          [0, 0, 0, ..., 0, 0, 0],\n",
              "          [0, 0, 0, ..., 0, 0, 0],\n",
              "          [0, 0, 0, ..., 0, 0, 0]]], dtype=uint8),\n",
              "  array([9, 0, 0, ..., 3, 0, 5], dtype=uint8)),\n",
              " (array([[[0, 0, 0, ..., 0, 0, 0],\n",
              "          [0, 0, 0, ..., 0, 0, 0],\n",
              "          [0, 0, 0, ..., 0, 0, 0],\n",
              "          ...,\n",
              "          [0, 0, 0, ..., 0, 0, 0],\n",
              "          [0, 0, 0, ..., 0, 0, 0],\n",
              "          [0, 0, 0, ..., 0, 0, 0]],\n",
              "  \n",
              "         [[0, 0, 0, ..., 0, 0, 0],\n",
              "          [0, 0, 0, ..., 0, 0, 0],\n",
              "          [0, 0, 0, ..., 0, 0, 0],\n",
              "          ...,\n",
              "          [0, 0, 0, ..., 0, 0, 0],\n",
              "          [0, 0, 0, ..., 0, 0, 0],\n",
              "          [0, 0, 0, ..., 0, 0, 0]],\n",
              "  \n",
              "         [[0, 0, 0, ..., 0, 0, 0],\n",
              "          [0, 0, 0, ..., 0, 0, 0],\n",
              "          [0, 0, 0, ..., 0, 0, 0],\n",
              "          ...,\n",
              "          [0, 0, 0, ..., 0, 0, 0],\n",
              "          [0, 0, 0, ..., 0, 0, 0],\n",
              "          [0, 0, 0, ..., 0, 0, 0]],\n",
              "  \n",
              "         ...,\n",
              "  \n",
              "         [[0, 0, 0, ..., 0, 0, 0],\n",
              "          [0, 0, 0, ..., 0, 0, 0],\n",
              "          [0, 0, 0, ..., 0, 0, 0],\n",
              "          ...,\n",
              "          [0, 0, 0, ..., 0, 0, 0],\n",
              "          [0, 0, 0, ..., 0, 0, 0],\n",
              "          [0, 0, 0, ..., 0, 0, 0]],\n",
              "  \n",
              "         [[0, 0, 0, ..., 0, 0, 0],\n",
              "          [0, 0, 0, ..., 0, 0, 0],\n",
              "          [0, 0, 0, ..., 0, 0, 0],\n",
              "          ...,\n",
              "          [0, 0, 0, ..., 0, 0, 0],\n",
              "          [0, 0, 0, ..., 0, 0, 0],\n",
              "          [0, 0, 0, ..., 0, 0, 0]],\n",
              "  \n",
              "         [[0, 0, 0, ..., 0, 0, 0],\n",
              "          [0, 0, 0, ..., 0, 0, 0],\n",
              "          [0, 0, 0, ..., 0, 0, 0],\n",
              "          ...,\n",
              "          [0, 0, 0, ..., 0, 0, 0],\n",
              "          [0, 0, 0, ..., 0, 0, 0],\n",
              "          [0, 0, 0, ..., 0, 0, 0]]], dtype=uint8),\n",
              "  array([9, 2, 1, ..., 8, 1, 5], dtype=uint8)))"
            ]
          },
          "metadata": {},
          "execution_count": 2
        }
      ]
    },
    {
      "cell_type": "code",
      "source": [
        "((imagens_treino, identificacoes_treino), (imagens_teste, identificacoes_teste))  = dataset.load_data()"
      ],
      "metadata": {
        "id": "7XwcIp5IrqjS"
      },
      "execution_count": null,
      "outputs": []
    },
    {
      "cell_type": "code",
      "source": [
        "modelo = keras.Sequential([\n",
        "  keras.layers.Flatten(input_shape=(28,28)),\n",
        "  keras.layers.Dense(256, activation = tensorflow.nn.relu),\n",
        "  keras.layers.Dropout(0.2),\n",
        "  keras.layers.Dense(10, activation = tensorflow.nn.softmax)\n",
        "])\n",
        "\n",
        "modelo.compile(optimizer='adam', \n",
        "               loss='sparse_categorical_crossentropy',\n",
        "               metrics=['accuracy'])\n",
        "historico = modelo.fit(imagens_treino, identificacoes_treino, epochs=5, validation_split=0.2)"
      ],
      "metadata": {
        "colab": {
          "base_uri": "https://localhost:8080/"
        },
        "id": "gLRbPBdMrurc",
        "outputId": "a7a5595c-294f-4f71-e9dc-720ec02adb57"
      },
      "execution_count": null,
      "outputs": [
        {
          "output_type": "stream",
          "name": "stdout",
          "text": [
            "Epoch 1/5\n",
            "1500/1500 [==============================] - 7s 4ms/step - loss: 3.3069 - accuracy: 0.6465 - val_loss: 0.7854 - val_accuracy: 0.6955\n",
            "Epoch 2/5\n",
            "1500/1500 [==============================] - 9s 6ms/step - loss: 0.8395 - accuracy: 0.6782 - val_loss: 0.7078 - val_accuracy: 0.7156\n",
            "Epoch 3/5\n",
            "1500/1500 [==============================] - 10s 7ms/step - loss: 0.7911 - accuracy: 0.6892 - val_loss: 0.6740 - val_accuracy: 0.7202\n",
            "Epoch 4/5\n",
            "1500/1500 [==============================] - 5s 4ms/step - loss: 0.7455 - accuracy: 0.7105 - val_loss: 0.6083 - val_accuracy: 0.7886\n",
            "Epoch 5/5\n",
            "1500/1500 [==============================] - 6s 4ms/step - loss: 0.7385 - accuracy: 0.7254 - val_loss: 0.5749 - val_accuracy: 0.8070\n"
          ]
        }
      ]
    },
    {
      "cell_type": "code",
      "source": [
        "plt.plot(historico.history['accuracy'])\n",
        "plt.plot(historico.history['val_accuracy'])\n",
        "plt.title('Acurácia por épocas')\n",
        "plt.xlabel('Épocas')\n",
        "plt.ylabel('Acurácia')\n",
        "\n",
        "plt.legend(['Treino', 'Validação'])"
      ],
      "metadata": {
        "colab": {
          "base_uri": "https://localhost:8080/",
          "height": 314
        },
        "id": "M13N6pUrsPRS",
        "outputId": "f402f885-3dff-4b71-8df1-24966d9c063d"
      },
      "execution_count": null,
      "outputs": [
        {
          "output_type": "execute_result",
          "data": {
            "text/plain": [
              "<matplotlib.legend.Legend at 0x7f05ab04de50>"
            ]
          },
          "metadata": {},
          "execution_count": 5
        },
        {
          "output_type": "display_data",
          "data": {
            "text/plain": [
              "<Figure size 432x288 with 1 Axes>"
            ],
            "image/png": "[encoded data removed]"
          },
          "metadata": {
            "needs_background": "light"
          }
        }
      ]
    },
    {
      "cell_type": "code",
      "source": [
        "plt.plot(historico.history['loss'])\n",
        "plt.plot(historico.history['val_loss'])\n",
        "plt.title('Perda por épocas')\n",
        "plt.xlabel('Épocas')\n",
        "plt.ylabel('Perda')\n",
        "\n",
        "plt.legend(['Treino', 'Validação'])"
      ],
      "metadata": {
        "colab": {
          "base_uri": "https://localhost:8080/",
          "height": 314
        },
        "id": "AvPC-Qo5sPEk",
        "outputId": "6643e766-2a0f-41da-9196-a0eff8e41448"
      },
      "execution_count": null,
      "outputs": [
        {
          "output_type": "execute_result",
          "data": {
            "text/plain": [
              "<matplotlib.legend.Legend at 0x7f05af6f5a50>"
            ]
          },
          "metadata": {},
          "execution_count": 6
        },
        {
          "output_type": "display_data",
          "data": {
            "text/plain": [
              "<Figure size 432x288 with 1 Axes>"
            ],
            "image/png": "[encoded data removed]"
          },
          "metadata": {
            "needs_background": "light"
          }
        }
      ]
    },
    {
      "cell_type": "code",
      "source": [
        "modelo.save('modelo.h5')\n",
        "modelo_salvo = load_model('modelo.h5')"
      ],
      "metadata": {
        "id": "wW_kq9rMsPB0"
      },
      "execution_count": null,
      "outputs": []
    },
    {
      "cell_type": "code",
      "source": [
        "testes_modelo_salvo = modelo_salvo.predict(imagens_teste)\n",
        "print('Resultado testes:', np.argmax(testes_modelo_salvo[0]))\n",
        "print('Número de imagem de testes:', identificacoes_teste[0])"
      ],
      "metadata": {
        "colab": {
          "base_uri": "https://localhost:8080/"
        },
        "id": "8h0a58uXshqs",
        "outputId": "b0dbdca3-6122-4e92-f2b2-c99d78af9312"
      },
      "execution_count": null,
      "outputs": [
        {
          "output_type": "stream",
          "name": "stdout",
          "text": [
            "Resultado testes: 9\n",
            "Número de imagem de testes: 9\n"
          ]
        }
      ]
    },
    {
      "cell_type": "code",
      "source": [
        "modelo.summary()"
      ],
      "metadata": {
        "colab": {
          "base_uri": "https://localhost:8080/"
        },
        "id": "AcwoUV2MsswJ",
        "outputId": "92d6c518-39d6-4382-95b4-e17525841830"
      },
      "execution_count": null,
      "outputs": [
        {
          "output_type": "stream",
          "name": "stdout",
          "text": [
            "Model: \"sequential\"\n",
            "_________________________________________________________________\n",
            " Layer (type)                Output Shape              Param #   \n",
            "=================================================================\n",
            " flatten (Flatten)           (None, 784)               0         \n",
            "                                                                 \n",
            " dense (Dense)               (None, 256)               200960    \n",
            "                                                                 \n",
            " dropout (Dropout)           (None, 256)               0         \n",
            "                                                                 \n",
            " dense_1 (Dense)             (None, 10)                2570      \n",
            "                                                                 \n",
            "=================================================================\n",
            "Total params: 203,530\n",
            "Trainable params: 203,530\n",
            "Non-trainable params: 0\n",
            "_________________________________________________________________\n"
          ]
        }
      ]
    },
    {
      "cell_type": "markdown",
      "source": [
        "## **Valores propagados e pesos**"
      ],
      "metadata": {
        "id": "TiWdixg_tTP7"
      }
    },
    {
      "cell_type": "code",
      "source": [
        "modelo.layers[1].get_weights()[0]"
      ],
      "metadata": {
        "colab": {
          "base_uri": "https://localhost:8080/"
        },
        "id": "_AvveO4ktNeK",
        "outputId": "72d524ad-42f8-4a4d-9680-c585db02f1ab"
      },
      "execution_count": null,
      "outputs": [
        {
          "output_type": "execute_result",
          "data": {
            "text/plain": [
              "array([[-0.06938067,  0.01195498, -0.03253914, ..., -0.00300951,\n",
              "        -0.0003423 ,  0.03427068],\n",
              "       [ 0.06244947, -0.01269994,  0.0626166 , ...,  0.02943039,\n",
              "         0.02244314, -0.04813881],\n",
              "       [-0.06064085,  0.02891224, -0.03765765, ...,  0.07144231,\n",
              "        -0.07410022,  0.05303875],\n",
              "       ...,\n",
              "       [-0.0040773 , -0.01002108,  0.09605162, ...,  0.05801608,\n",
              "         0.02790074,  0.00352967],\n",
              "       [-0.08089018,  0.00517219, -0.0402425 , ...,  0.0046552 ,\n",
              "         0.04731449, -0.07957544],\n",
              "       [-0.04315675, -0.06826178,  0.05851157, ...,  0.06349991,\n",
              "        -0.07287736,  0.06284805]], dtype=float32)"
            ]
          },
          "metadata": {},
          "execution_count": 10
        }
      ]
    },
    {
      "cell_type": "markdown",
      "source": [
        "## **Refatorando**"
      ],
      "metadata": {
        "id": "UX9j9ffxtWsz"
      }
    },
    {
      "cell_type": "code",
      "source": [
        "sumario_do_modelo = modelo.summary()\n",
        "sumario_do_modelo"
      ],
      "metadata": {
        "colab": {
          "base_uri": "https://localhost:8080/"
        },
        "id": "_9davD2WuS6g",
        "outputId": "3eada571-b4e7-4d20-8a91-8ab82e894f71"
      },
      "execution_count": null,
      "outputs": [
        {
          "output_type": "stream",
          "name": "stdout",
          "text": [
            "Model: \"sequential\"\n",
            "_________________________________________________________________\n",
            " Layer (type)                Output Shape              Param #   \n",
            "=================================================================\n",
            " flatten (Flatten)           (None, 784)               0         \n",
            "                                                                 \n",
            " dense (Dense)               (None, 256)               200960    \n",
            "                                                                 \n",
            " dropout (Dropout)           (None, 256)               0         \n",
            "                                                                 \n",
            " dense_1 (Dense)             (None, 10)                2570      \n",
            "                                                                 \n",
            "=================================================================\n",
            "Total params: 203,530\n",
            "Trainable params: 203,530\n",
            "Non-trainable params: 0\n",
            "_________________________________________________________________\n"
          ]
        }
      ]
    },
    {
      "cell_type": "code",
      "source": [
        "pesos_camada_dense = modelo.layers[1].get_weights()\n",
        "pesos_camada_dense"
      ],
      "metadata": {
        "colab": {
          "base_uri": "https://localhost:8080/"
        },
        "id": "wpDKEr2guS4H",
        "outputId": "c3d0b445-883d-4866-953a-ac69e31b4447"
      },
      "execution_count": null,
      "outputs": [
        {
          "output_type": "execute_result",
          "data": {
            "text/plain": [
              "[array([[-0.06938067,  0.01195498, -0.03253914, ..., -0.00300951,\n",
              "         -0.0003423 ,  0.03427068],\n",
              "        [ 0.06244947, -0.01269994,  0.0626166 , ...,  0.02943039,\n",
              "          0.02244314, -0.04813881],\n",
              "        [-0.06064085,  0.02891224, -0.03765765, ...,  0.07144231,\n",
              "         -0.07410022,  0.05303875],\n",
              "        ...,\n",
              "        [-0.0040773 , -0.01002108,  0.09605162, ...,  0.05801608,\n",
              "          0.02790074,  0.00352967],\n",
              "        [-0.08089018,  0.00517219, -0.0402425 , ...,  0.0046552 ,\n",
              "          0.04731449, -0.07957544],\n",
              "        [-0.04315675, -0.06826178,  0.05851157, ...,  0.06349991,\n",
              "         -0.07287736,  0.06284805]], dtype=float32),\n",
              " array([-1.91489048e-02, -4.18739952e-02, -2.21289229e-02, -3.13607417e-02,\n",
              "        -2.21344009e-02, -2.44264062e-02, -2.86258534e-02, -3.10114939e-02,\n",
              "        -3.37245166e-02, -3.48941311e-02, -9.38522536e-03,  1.16136912e-02,\n",
              "        -2.61057671e-02, -3.13752145e-02,  8.39822665e-02, -2.04601921e-02,\n",
              "        -4.44976194e-03, -2.72448435e-02, -1.39741944e-02, -2.43219286e-02,\n",
              "        -8.32785666e-03, -2.16525123e-02, -1.98744014e-02, -2.99638622e-02,\n",
              "        -1.66168194e-02, -2.46007536e-02, -1.66440401e-02, -3.05828098e-02,\n",
              "        -4.35629003e-02, -3.26112658e-02, -1.35598853e-02, -2.07626037e-02,\n",
              "        -2.12466773e-02, -8.93477537e-03, -9.64035988e-02, -5.03344797e-02,\n",
              "        -2.64794473e-03, -4.49128523e-02, -1.07194446e-02, -1.13718882e-02,\n",
              "        -1.06936665e-02,  6.54818490e-03, -2.50382740e-02, -9.94320028e-03,\n",
              "        -2.89943311e-02, -6.77425088e-03,  1.35457832e-02, -1.16751883e-02,\n",
              "         1.37588426e-01, -6.43770536e-03, -1.58026367e-02, -1.19461287e-02,\n",
              "        -1.86795611e-02, -2.81789917e-02, -2.26702895e-02, -8.99201911e-03,\n",
              "        -1.43482685e-02, -1.92878656e-02, -2.41730455e-02, -7.02148443e-03,\n",
              "         6.69528618e-02, -3.82110365e-02, -8.24175030e-03, -1.29030980e-02,\n",
              "        -2.43811496e-02, -1.81336198e-02, -2.08030362e-03, -5.92931247e-05,\n",
              "        -4.24856246e-02,  7.74751091e-03, -2.89360713e-02, -1.24939345e-03,\n",
              "        -4.69745360e-02, -1.46580152e-02, -4.31573503e-02, -1.86562669e-02,\n",
              "        -2.15032008e-02,  4.25716210e-03,  7.03383312e-02, -3.14678960e-02,\n",
              "        -1.70447174e-02, -4.03981954e-02, -1.79395638e-02, -2.51263883e-02,\n",
              "         6.99162344e-03,  2.66724676e-01, -1.64203346e-02, -2.83137877e-02,\n",
              "         2.67428346e-02, -1.29465889e-02, -1.92002505e-02, -3.02505470e-03,\n",
              "        -1.49784042e-02, -1.95290931e-02, -2.49725375e-02, -2.80263089e-02,\n",
              "        -2.08857823e-02, -1.57737769e-02, -2.32867561e-02, -2.50114780e-02,\n",
              "        -1.93160865e-02, -1.84963942e-02,  1.40602380e-01, -9.27759986e-03,\n",
              "        -1.51220597e-02,  3.04713529e-02, -3.90077792e-02,  1.42986013e-03,\n",
              "        -1.43853305e-02, -4.17090915e-02, -1.70317423e-02,  3.75970528e-02,\n",
              "        -4.71127145e-02, -2.25043129e-02, -3.24230120e-02,  3.38344835e-02,\n",
              "        -2.05937661e-02, -1.90935209e-02, -1.92440972e-02, -1.54333487e-02,\n",
              "        -2.13935431e-02,  7.96254873e-02, -1.29723940e-02, -1.01045184e-02,\n",
              "        -1.74738448e-02, -3.02737989e-02, -3.39609087e-02, -2.89174877e-02,\n",
              "        -2.18101833e-02, -2.94566248e-02, -3.46472971e-02, -2.37154160e-02,\n",
              "        -2.26981249e-02, -2.10014191e-02, -2.36575846e-02, -1.67256165e-02,\n",
              "         3.07341926e-02, -4.57026847e-02, -1.54577848e-02, -2.47501861e-02,\n",
              "        -1.57293025e-02, -1.21378871e-02, -1.60920173e-02, -1.60171986e-02,\n",
              "        -3.87068838e-02, -2.09209435e-02, -2.50245407e-02,  4.01751744e-03,\n",
              "        -3.06853782e-02, -2.00160779e-02, -1.06864922e-01, -3.81068513e-02,\n",
              "        -3.22334208e-02, -1.46494761e-01, -1.29923392e-02,  6.04751334e-02,\n",
              "        -7.60757877e-03, -3.17257866e-02, -1.83369610e-02, -1.80008590e-01,\n",
              "        -2.88378485e-02, -2.99179740e-02, -3.16085778e-02, -3.43843251e-02,\n",
              "        -1.83611829e-02, -1.88680310e-02,  6.28400303e-04, -2.17301361e-02,\n",
              "        -7.95194414e-03, -2.53051557e-02, -5.59084257e-03, -9.54714417e-03,\n",
              "        -1.05035566e-02, -2.04992771e-01, -3.37637030e-02,  3.86562361e-03,\n",
              "         2.13001538e-02, -1.89815369e-02, -2.50418037e-02, -2.33195424e-02,\n",
              "        -1.99137777e-02, -1.93724725e-02, -1.84325427e-02,  1.28344269e-02,\n",
              "        -2.49085147e-02, -1.47142252e-02, -1.61759350e-02, -8.78756791e-02,\n",
              "        -2.62654163e-02, -2.38083862e-02, -3.45889032e-02, -2.36646738e-02,\n",
              "        -1.68594215e-02,  1.16940506e-01, -1.66227091e-02, -2.35965159e-02,\n",
              "        -2.09154636e-02,  7.63811991e-02,  5.98641532e-03, -2.27125566e-02,\n",
              "         3.57381180e-02,  4.59707063e-03, -3.43932323e-02,  2.44746692e-02,\n",
              "        -1.22616813e-02, -5.17455712e-02, -2.32035201e-02,  4.68765572e-02,\n",
              "        -1.93442609e-02, -1.35053732e-02, -4.37391140e-02, -6.18242100e-02,\n",
              "        -2.10202988e-02, -1.57112945e-02, -1.42536405e-02, -1.47728436e-02,\n",
              "        -1.49116851e-02,  8.32610705e-04, -3.35315503e-02, -2.14228351e-02,\n",
              "        -1.07162371e-02, -1.39612537e-02, -2.51189265e-02, -4.23944443e-02,\n",
              "        -1.90039612e-02, -1.85900703e-02, -2.89138835e-02, -1.99132003e-02,\n",
              "        -2.46338751e-02, -2.52713580e-02, -3.70730497e-02, -2.14204788e-02,\n",
              "        -2.03142185e-02, -2.69526374e-02, -2.64131799e-02, -1.71726018e-01,\n",
              "        -4.99930046e-02, -6.54966990e-03, -1.01285959e-02, -2.32109465e-02,\n",
              "        -1.88680738e-02, -2.02230867e-02,  3.50762419e-02, -2.01811735e-02,\n",
              "        -1.10550802e-02,  2.70476136e-02, -1.92921180e-02,  2.46757991e-03,\n",
              "        -1.42744938e-02, -1.05996970e-02, -2.37538237e-02, -3.99674475e-02,\n",
              "        -4.04574722e-02, -3.15620750e-02, -2.50818823e-02,  7.80261382e-02],\n",
              "       dtype=float32)]"
            ]
          },
          "metadata": {},
          "execution_count": 12
        }
      ]
    },
    {
      "cell_type": "markdown",
      "source": [
        "# **02 Estudando os pesos e vieses**"
      ],
      "metadata": {
        "id": "XEI-Ss2mvdpA"
      }
    },
    {
      "cell_type": "markdown",
      "source": [
        "## **Vieses**"
      ],
      "metadata": {
        "id": "3tNQ4zyAwj2X"
      }
    },
    {
      "cell_type": "markdown",
      "source": [
        "Pesos"
      ],
      "metadata": {
        "id": "1nRLKR4exNJu"
      }
    },
    {
      "cell_type": "code",
      "source": [
        "pesos_camada_dense = modelo.layers[1].get_weights()[0]\n",
        "pesos_camada_dense"
      ],
      "metadata": {
        "colab": {
          "base_uri": "https://localhost:8080/"
        },
        "id": "RkZ5XwoBuS09",
        "outputId": "b2450579-fe70-499c-8cb2-21a56f0e3d14"
      },
      "execution_count": null,
      "outputs": [
        {
          "output_type": "execute_result",
          "data": {
            "text/plain": [
              "array([[-0.06938067,  0.01195498, -0.03253914, ..., -0.00300951,\n",
              "        -0.0003423 ,  0.03427068],\n",
              "       [ 0.06244947, -0.01269994,  0.0626166 , ...,  0.02943039,\n",
              "         0.02244314, -0.04813881],\n",
              "       [-0.06064085,  0.02891224, -0.03765765, ...,  0.07144231,\n",
              "        -0.07410022,  0.05303875],\n",
              "       ...,\n",
              "       [-0.0040773 , -0.01002108,  0.09605162, ...,  0.05801608,\n",
              "         0.02790074,  0.00352967],\n",
              "       [-0.08089018,  0.00517219, -0.0402425 , ...,  0.0046552 ,\n",
              "         0.04731449, -0.07957544],\n",
              "       [-0.04315675, -0.06826178,  0.05851157, ...,  0.06349991,\n",
              "        -0.07287736,  0.06284805]], dtype=float32)"
            ]
          },
          "metadata": {},
          "execution_count": 13
        }
      ]
    },
    {
      "cell_type": "markdown",
      "source": [
        "Vieses"
      ],
      "metadata": {
        "id": "ZO95vuxqxP-z"
      }
    },
    {
      "cell_type": "code",
      "source": [
        "vieses_camada_dense = modelo.layers[1].get_weights()[1]\n",
        "vieses_camada_dense"
      ],
      "metadata": {
        "colab": {
          "base_uri": "https://localhost:8080/"
        },
        "id": "wkOPpg1IuSyi",
        "outputId": "668f9608-f22a-4e1c-a0cd-0e02f3c41fed"
      },
      "execution_count": null,
      "outputs": [
        {
          "output_type": "execute_result",
          "data": {
            "text/plain": [
              "array([-1.91489048e-02, -4.18739952e-02, -2.21289229e-02, -3.13607417e-02,\n",
              "       -2.21344009e-02, -2.44264062e-02, -2.86258534e-02, -3.10114939e-02,\n",
              "       -3.37245166e-02, -3.48941311e-02, -9.38522536e-03,  1.16136912e-02,\n",
              "       -2.61057671e-02, -3.13752145e-02,  8.39822665e-02, -2.04601921e-02,\n",
              "       -4.44976194e-03, -2.72448435e-02, -1.39741944e-02, -2.43219286e-02,\n",
              "       -8.32785666e-03, -2.16525123e-02, -1.98744014e-02, -2.99638622e-02,\n",
              "       -1.66168194e-02, -2.46007536e-02, -1.66440401e-02, -3.05828098e-02,\n",
              "       -4.35629003e-02, -3.26112658e-02, -1.35598853e-02, -2.07626037e-02,\n",
              "       -2.12466773e-02, -8.93477537e-03, -9.64035988e-02, -5.03344797e-02,\n",
              "       -2.64794473e-03, -4.49128523e-02, -1.07194446e-02, -1.13718882e-02,\n",
              "       -1.06936665e-02,  6.54818490e-03, -2.50382740e-02, -9.94320028e-03,\n",
              "       -2.89943311e-02, -6.77425088e-03,  1.35457832e-02, -1.16751883e-02,\n",
              "        1.37588426e-01, -6.43770536e-03, -1.58026367e-02, -1.19461287e-02,\n",
              "       -1.86795611e-02, -2.81789917e-02, -2.26702895e-02, -8.99201911e-03,\n",
              "       -1.43482685e-02, -1.92878656e-02, -2.41730455e-02, -7.02148443e-03,\n",
              "        6.69528618e-02, -3.82110365e-02, -8.24175030e-03, -1.29030980e-02,\n",
              "       -2.43811496e-02, -1.81336198e-02, -2.08030362e-03, -5.92931247e-05,\n",
              "       -4.24856246e-02,  7.74751091e-03, -2.89360713e-02, -1.24939345e-03,\n",
              "       -4.69745360e-02, -1.46580152e-02, -4.31573503e-02, -1.86562669e-02,\n",
              "       -2.15032008e-02,  4.25716210e-03,  7.03383312e-02, -3.14678960e-02,\n",
              "       -1.70447174e-02, -4.03981954e-02, -1.79395638e-02, -2.51263883e-02,\n",
              "        6.99162344e-03,  2.66724676e-01, -1.64203346e-02, -2.83137877e-02,\n",
              "        2.67428346e-02, -1.29465889e-02, -1.92002505e-02, -3.02505470e-03,\n",
              "       -1.49784042e-02, -1.95290931e-02, -2.49725375e-02, -2.80263089e-02,\n",
              "       -2.08857823e-02, -1.57737769e-02, -2.32867561e-02, -2.50114780e-02,\n",
              "       -1.93160865e-02, -1.84963942e-02,  1.40602380e-01, -9.27759986e-03,\n",
              "       -1.51220597e-02,  3.04713529e-02, -3.90077792e-02,  1.42986013e-03,\n",
              "       -1.43853305e-02, -4.17090915e-02, -1.70317423e-02,  3.75970528e-02,\n",
              "       -4.71127145e-02, -2.25043129e-02, -3.24230120e-02,  3.38344835e-02,\n",
              "       -2.05937661e-02, -1.90935209e-02, -1.92440972e-02, -1.54333487e-02,\n",
              "       -2.13935431e-02,  7.96254873e-02, -1.29723940e-02, -1.01045184e-02,\n",
              "       -1.74738448e-02, -3.02737989e-02, -3.39609087e-02, -2.89174877e-02,\n",
              "       -2.18101833e-02, -2.94566248e-02, -3.46472971e-02, -2.37154160e-02,\n",
              "       -2.26981249e-02, -2.10014191e-02, -2.36575846e-02, -1.67256165e-02,\n",
              "        3.07341926e-02, -4.57026847e-02, -1.54577848e-02, -2.47501861e-02,\n",
              "       -1.57293025e-02, -1.21378871e-02, -1.60920173e-02, -1.60171986e-02,\n",
              "       -3.87068838e-02, -2.09209435e-02, -2.50245407e-02,  4.01751744e-03,\n",
              "       -3.06853782e-02, -2.00160779e-02, -1.06864922e-01, -3.81068513e-02,\n",
              "       -3.22334208e-02, -1.46494761e-01, -1.29923392e-02,  6.04751334e-02,\n",
              "       -7.60757877e-03, -3.17257866e-02, -1.83369610e-02, -1.80008590e-01,\n",
              "       -2.88378485e-02, -2.99179740e-02, -3.16085778e-02, -3.43843251e-02,\n",
              "       -1.83611829e-02, -1.88680310e-02,  6.28400303e-04, -2.17301361e-02,\n",
              "       -7.95194414e-03, -2.53051557e-02, -5.59084257e-03, -9.54714417e-03,\n",
              "       -1.05035566e-02, -2.04992771e-01, -3.37637030e-02,  3.86562361e-03,\n",
              "        2.13001538e-02, -1.89815369e-02, -2.50418037e-02, -2.33195424e-02,\n",
              "       -1.99137777e-02, -1.93724725e-02, -1.84325427e-02,  1.28344269e-02,\n",
              "       -2.49085147e-02, -1.47142252e-02, -1.61759350e-02, -8.78756791e-02,\n",
              "       -2.62654163e-02, -2.38083862e-02, -3.45889032e-02, -2.36646738e-02,\n",
              "       -1.68594215e-02,  1.16940506e-01, -1.66227091e-02, -2.35965159e-02,\n",
              "       -2.09154636e-02,  7.63811991e-02,  5.98641532e-03, -2.27125566e-02,\n",
              "        3.57381180e-02,  4.59707063e-03, -3.43932323e-02,  2.44746692e-02,\n",
              "       -1.22616813e-02, -5.17455712e-02, -2.32035201e-02,  4.68765572e-02,\n",
              "       -1.93442609e-02, -1.35053732e-02, -4.37391140e-02, -6.18242100e-02,\n",
              "       -2.10202988e-02, -1.57112945e-02, -1.42536405e-02, -1.47728436e-02,\n",
              "       -1.49116851e-02,  8.32610705e-04, -3.35315503e-02, -2.14228351e-02,\n",
              "       -1.07162371e-02, -1.39612537e-02, -2.51189265e-02, -4.23944443e-02,\n",
              "       -1.90039612e-02, -1.85900703e-02, -2.89138835e-02, -1.99132003e-02,\n",
              "       -2.46338751e-02, -2.52713580e-02, -3.70730497e-02, -2.14204788e-02,\n",
              "       -2.03142185e-02, -2.69526374e-02, -2.64131799e-02, -1.71726018e-01,\n",
              "       -4.99930046e-02, -6.54966990e-03, -1.01285959e-02, -2.32109465e-02,\n",
              "       -1.88680738e-02, -2.02230867e-02,  3.50762419e-02, -2.01811735e-02,\n",
              "       -1.10550802e-02,  2.70476136e-02, -1.92921180e-02,  2.46757991e-03,\n",
              "       -1.42744938e-02, -1.05996970e-02, -2.37538237e-02, -3.99674475e-02,\n",
              "       -4.04574722e-02, -3.15620750e-02, -2.50818823e-02,  7.80261382e-02],\n",
              "      dtype=float32)"
            ]
          },
          "metadata": {},
          "execution_count": 14
        }
      ]
    },
    {
      "cell_type": "markdown",
      "source": [
        "## **Zerando os pesos**"
      ],
      "metadata": {
        "id": "xD3FIWd3yX3x"
      }
    },
    {
      "cell_type": "code",
      "source": [
        "pesos_camada_dense = modelo.layers[1].get_weights()[0]\n",
        "pesos_camada_dense"
      ],
      "metadata": {
        "colab": {
          "base_uri": "https://localhost:8080/"
        },
        "id": "tp2Avq7vzDLh",
        "outputId": "ec6130c1-f8f8-443c-aa60-733c3b8519e6"
      },
      "execution_count": null,
      "outputs": [
        {
          "output_type": "execute_result",
          "data": {
            "text/plain": [
              "array([[-0.06938067,  0.01195498, -0.03253914, ..., -0.00300951,\n",
              "        -0.0003423 ,  0.03427068],\n",
              "       [ 0.06244947, -0.01269994,  0.0626166 , ...,  0.02943039,\n",
              "         0.02244314, -0.04813881],\n",
              "       [-0.06064085,  0.02891224, -0.03765765, ...,  0.07144231,\n",
              "        -0.07410022,  0.05303875],\n",
              "       ...,\n",
              "       [-0.0040773 , -0.01002108,  0.09605162, ...,  0.05801608,\n",
              "         0.02790074,  0.00352967],\n",
              "       [-0.08089018,  0.00517219, -0.0402425 , ...,  0.0046552 ,\n",
              "         0.04731449, -0.07957544],\n",
              "       [-0.04315675, -0.06826178,  0.05851157, ...,  0.06349991,\n",
              "        -0.07287736,  0.06284805]], dtype=float32)"
            ]
          },
          "metadata": {},
          "execution_count": 15
        }
      ]
    },
    {
      "cell_type": "code",
      "source": [
        "pesos_camada_dense.shape"
      ],
      "metadata": {
        "colab": {
          "base_uri": "https://localhost:8080/"
        },
        "id": "2hk82sdduSve",
        "outputId": "18f58dae-c807-415d-f6f8-0717df461212"
      },
      "execution_count": null,
      "outputs": [
        {
          "output_type": "execute_result",
          "data": {
            "text/plain": [
              "(784, 256)"
            ]
          },
          "metadata": {},
          "execution_count": 16
        }
      ]
    },
    {
      "cell_type": "code",
      "source": [
        "pesos_camada_dense_zerados = np.zeros(((784, 256)))\n",
        "pesos_camada_dense_zerados"
      ],
      "metadata": {
        "colab": {
          "base_uri": "https://localhost:8080/"
        },
        "id": "rqcmwvO7uSsz",
        "outputId": "647a3264-9897-4bf1-e2ca-542371e84f5f"
      },
      "execution_count": null,
      "outputs": [
        {
          "output_type": "execute_result",
          "data": {
            "text/plain": [
              "array([[0., 0., 0., ..., 0., 0., 0.],\n",
              "       [0., 0., 0., ..., 0., 0., 0.],\n",
              "       [0., 0., 0., ..., 0., 0., 0.],\n",
              "       ...,\n",
              "       [0., 0., 0., ..., 0., 0., 0.],\n",
              "       [0., 0., 0., ..., 0., 0., 0.],\n",
              "       [0., 0., 0., ..., 0., 0., 0.]])"
            ]
          },
          "metadata": {},
          "execution_count": 17
        }
      ]
    },
    {
      "cell_type": "code",
      "source": [
        "modelo.layers[1].set_weights(\n",
        "    [pesos_camada_dense_zerados, vieses_camada_dense])\n",
        "modelo.layers[1].get_weights()"
      ],
      "metadata": {
        "colab": {
          "base_uri": "https://localhost:8080/"
        },
        "id": "YRQ0iFChuSqP",
        "outputId": "07984ebe-8023-4e20-e21f-688cf8094229"
      },
      "execution_count": null,
      "outputs": [
        {
          "output_type": "execute_result",
          "data": {
            "text/plain": [
              "[array([[0., 0., 0., ..., 0., 0., 0.],\n",
              "        [0., 0., 0., ..., 0., 0., 0.],\n",
              "        [0., 0., 0., ..., 0., 0., 0.],\n",
              "        ...,\n",
              "        [0., 0., 0., ..., 0., 0., 0.],\n",
              "        [0., 0., 0., ..., 0., 0., 0.],\n",
              "        [0., 0., 0., ..., 0., 0., 0.]], dtype=float32),\n",
              " array([-1.91489048e-02, -4.18739952e-02, -2.21289229e-02, -3.13607417e-02,\n",
              "        -2.21344009e-02, -2.44264062e-02, -2.86258534e-02, -3.10114939e-02,\n",
              "        -3.37245166e-02, -3.48941311e-02, -9.38522536e-03,  1.16136912e-02,\n",
              "        -2.61057671e-02, -3.13752145e-02,  8.39822665e-02, -2.04601921e-02,\n",
              "        -4.44976194e-03, -2.72448435e-02, -1.39741944e-02, -2.43219286e-02,\n",
              "        -8.32785666e-03, -2.16525123e-02, -1.98744014e-02, -2.99638622e-02,\n",
              "        -1.66168194e-02, -2.46007536e-02, -1.66440401e-02, -3.05828098e-02,\n",
              "        -4.35629003e-02, -3.26112658e-02, -1.35598853e-02, -2.07626037e-02,\n",
              "        -2.12466773e-02, -8.93477537e-03, -9.64035988e-02, -5.03344797e-02,\n",
              "        -2.64794473e-03, -4.49128523e-02, -1.07194446e-02, -1.13718882e-02,\n",
              "        -1.06936665e-02,  6.54818490e-03, -2.50382740e-02, -9.94320028e-03,\n",
              "        -2.89943311e-02, -6.77425088e-03,  1.35457832e-02, -1.16751883e-02,\n",
              "         1.37588426e-01, -6.43770536e-03, -1.58026367e-02, -1.19461287e-02,\n",
              "        -1.86795611e-02, -2.81789917e-02, -2.26702895e-02, -8.99201911e-03,\n",
              "        -1.43482685e-02, -1.92878656e-02, -2.41730455e-02, -7.02148443e-03,\n",
              "         6.69528618e-02, -3.82110365e-02, -8.24175030e-03, -1.29030980e-02,\n",
              "        -2.43811496e-02, -1.81336198e-02, -2.08030362e-03, -5.92931247e-05,\n",
              "        -4.24856246e-02,  7.74751091e-03, -2.89360713e-02, -1.24939345e-03,\n",
              "        -4.69745360e-02, -1.46580152e-02, -4.31573503e-02, -1.86562669e-02,\n",
              "        -2.15032008e-02,  4.25716210e-03,  7.03383312e-02, -3.14678960e-02,\n",
              "        -1.70447174e-02, -4.03981954e-02, -1.79395638e-02, -2.51263883e-02,\n",
              "         6.99162344e-03,  2.66724676e-01, -1.64203346e-02, -2.83137877e-02,\n",
              "         2.67428346e-02, -1.29465889e-02, -1.92002505e-02, -3.02505470e-03,\n",
              "        -1.49784042e-02, -1.95290931e-02, -2.49725375e-02, -2.80263089e-02,\n",
              "        -2.08857823e-02, -1.57737769e-02, -2.32867561e-02, -2.50114780e-02,\n",
              "        -1.93160865e-02, -1.84963942e-02,  1.40602380e-01, -9.27759986e-03,\n",
              "        -1.51220597e-02,  3.04713529e-02, -3.90077792e-02,  1.42986013e-03,\n",
              "        -1.43853305e-02, -4.17090915e-02, -1.70317423e-02,  3.75970528e-02,\n",
              "        -4.71127145e-02, -2.25043129e-02, -3.24230120e-02,  3.38344835e-02,\n",
              "        -2.05937661e-02, -1.90935209e-02, -1.92440972e-02, -1.54333487e-02,\n",
              "        -2.13935431e-02,  7.96254873e-02, -1.29723940e-02, -1.01045184e-02,\n",
              "        -1.74738448e-02, -3.02737989e-02, -3.39609087e-02, -2.89174877e-02,\n",
              "        -2.18101833e-02, -2.94566248e-02, -3.46472971e-02, -2.37154160e-02,\n",
              "        -2.26981249e-02, -2.10014191e-02, -2.36575846e-02, -1.67256165e-02,\n",
              "         3.07341926e-02, -4.57026847e-02, -1.54577848e-02, -2.47501861e-02,\n",
              "        -1.57293025e-02, -1.21378871e-02, -1.60920173e-02, -1.60171986e-02,\n",
              "        -3.87068838e-02, -2.09209435e-02, -2.50245407e-02,  4.01751744e-03,\n",
              "        -3.06853782e-02, -2.00160779e-02, -1.06864922e-01, -3.81068513e-02,\n",
              "        -3.22334208e-02, -1.46494761e-01, -1.29923392e-02,  6.04751334e-02,\n",
              "        -7.60757877e-03, -3.17257866e-02, -1.83369610e-02, -1.80008590e-01,\n",
              "        -2.88378485e-02, -2.99179740e-02, -3.16085778e-02, -3.43843251e-02,\n",
              "        -1.83611829e-02, -1.88680310e-02,  6.28400303e-04, -2.17301361e-02,\n",
              "        -7.95194414e-03, -2.53051557e-02, -5.59084257e-03, -9.54714417e-03,\n",
              "        -1.05035566e-02, -2.04992771e-01, -3.37637030e-02,  3.86562361e-03,\n",
              "         2.13001538e-02, -1.89815369e-02, -2.50418037e-02, -2.33195424e-02,\n",
              "        -1.99137777e-02, -1.93724725e-02, -1.84325427e-02,  1.28344269e-02,\n",
              "        -2.49085147e-02, -1.47142252e-02, -1.61759350e-02, -8.78756791e-02,\n",
              "        -2.62654163e-02, -2.38083862e-02, -3.45889032e-02, -2.36646738e-02,\n",
              "        -1.68594215e-02,  1.16940506e-01, -1.66227091e-02, -2.35965159e-02,\n",
              "        -2.09154636e-02,  7.63811991e-02,  5.98641532e-03, -2.27125566e-02,\n",
              "         3.57381180e-02,  4.59707063e-03, -3.43932323e-02,  2.44746692e-02,\n",
              "        -1.22616813e-02, -5.17455712e-02, -2.32035201e-02,  4.68765572e-02,\n",
              "        -1.93442609e-02, -1.35053732e-02, -4.37391140e-02, -6.18242100e-02,\n",
              "        -2.10202988e-02, -1.57112945e-02, -1.42536405e-02, -1.47728436e-02,\n",
              "        -1.49116851e-02,  8.32610705e-04, -3.35315503e-02, -2.14228351e-02,\n",
              "        -1.07162371e-02, -1.39612537e-02, -2.51189265e-02, -4.23944443e-02,\n",
              "        -1.90039612e-02, -1.85900703e-02, -2.89138835e-02, -1.99132003e-02,\n",
              "        -2.46338751e-02, -2.52713580e-02, -3.70730497e-02, -2.14204788e-02,\n",
              "        -2.03142185e-02, -2.69526374e-02, -2.64131799e-02, -1.71726018e-01,\n",
              "        -4.99930046e-02, -6.54966990e-03, -1.01285959e-02, -2.32109465e-02,\n",
              "        -1.88680738e-02, -2.02230867e-02,  3.50762419e-02, -2.01811735e-02,\n",
              "        -1.10550802e-02,  2.70476136e-02, -1.92921180e-02,  2.46757991e-03,\n",
              "        -1.42744938e-02, -1.05996970e-02, -2.37538237e-02, -3.99674475e-02,\n",
              "        -4.04574722e-02, -3.15620750e-02, -2.50818823e-02,  7.80261382e-02],\n",
              "       dtype=float32)]"
            ]
          },
          "metadata": {},
          "execution_count": 18
        }
      ]
    },
    {
      "cell_type": "code",
      "source": [
        "modelo.compile(optimizer='adam', \n",
        "               loss='sparse_categorical_crossentropy',\n",
        "               metrics=['accuracy'])\n",
        "historico = modelo.fit(imagens_treino, identificacoes_treino, epochs=5, validation_split=0.2)"
      ],
      "metadata": {
        "colab": {
          "base_uri": "https://localhost:8080/"
        },
        "id": "11g2eNBeuSnZ",
        "outputId": "eb097746-e6a5-473f-d24c-c1cc18c01f21"
      },
      "execution_count": null,
      "outputs": [
        {
          "output_type": "stream",
          "name": "stdout",
          "text": [
            "Epoch 1/5\n",
            "1500/1500 [==============================] - 6s 4ms/step - loss: 1.3301 - accuracy: 0.4856 - val_loss: 0.9190 - val_accuracy: 0.6313\n",
            "Epoch 2/5\n",
            "1500/1500 [==============================] - 6s 4ms/step - loss: 1.1592 - accuracy: 0.5373 - val_loss: 0.9029 - val_accuracy: 0.6349\n",
            "Epoch 3/5\n",
            "1500/1500 [==============================] - 6s 4ms/step - loss: 1.1448 - accuracy: 0.5461 - val_loss: 0.8928 - val_accuracy: 0.6295\n",
            "Epoch 4/5\n",
            "1500/1500 [==============================] - 5s 4ms/step - loss: 1.1210 - accuracy: 0.5576 - val_loss: 0.9074 - val_accuracy: 0.6266\n",
            "Epoch 5/5\n",
            "1500/1500 [==============================] - 5s 3ms/step - loss: 1.1279 - accuracy: 0.5567 - val_loss: 0.8596 - val_accuracy: 0.6436\n"
          ]
        }
      ]
    },
    {
      "cell_type": "code",
      "source": [
        "plt.plot(historico.history['accuracy'])\n",
        "plt.plot(historico.history['val_accuracy'])\n",
        "plt.title('Acurácia por épocas')\n",
        "plt.xlabel('Épocas')\n",
        "plt.ylabel('Acurácia')\n",
        "\n",
        "plt.legend(['Treino', 'Validação'])"
      ],
      "metadata": {
        "colab": {
          "base_uri": "https://localhost:8080/",
          "height": 314
        },
        "id": "Ipk-rkcyuSkV",
        "outputId": "6763d00c-f30d-41a7-d39a-71535b8acd96"
      },
      "execution_count": null,
      "outputs": [
        {
          "output_type": "execute_result",
          "data": {
            "text/plain": [
              "<matplotlib.legend.Legend at 0x7f05aeffafd0>"
            ]
          },
          "metadata": {},
          "execution_count": 20
        },
        {
          "output_type": "display_data",
          "data": {
            "text/plain": [
              "<Figure size 432x288 with 1 Axes>"
            ],
            "image/png": "[encoded data removed]"
          },
          "metadata": {
            "needs_background": "light"
          }
        }
      ]
    },
    {
      "cell_type": "code",
      "source": [
        "plt.plot(historico.history['loss'])\n",
        "plt.plot(historico.history['val_loss'])\n",
        "plt.title('Perda por épocas')\n",
        "plt.xlabel('Épocas')\n",
        "plt.ylabel('Perda')\n",
        "\n",
        "plt.legend(['Treino', 'Validação'])"
      ],
      "metadata": {
        "colab": {
          "base_uri": "https://localhost:8080/",
          "height": 314
        },
        "id": "Mof0KYX7uSe0",
        "outputId": "4484b0d9-f476-47d4-db6e-4f3a401d7605"
      },
      "execution_count": null,
      "outputs": [
        {
          "output_type": "execute_result",
          "data": {
            "text/plain": [
              "<matplotlib.legend.Legend at 0x7f05af09c250>"
            ]
          },
          "metadata": {},
          "execution_count": 21
        },
        {
          "output_type": "display_data",
          "data": {
            "text/plain": [
              "<Figure size 432x288 with 1 Axes>"
            ],
            "image/png": "[encoded data removed]"
          },
          "metadata": {
            "needs_background": "light"
          }
        }
      ]
    },
    {
      "cell_type": "markdown",
      "source": [
        "## **Deixando os pesos aleatórios**"
      ],
      "metadata": {
        "id": "im0EkPWGuSZr"
      }
    },
    {
      "cell_type": "code",
      "source": [
        "pesos_camada_dense_aleatorios = np.random.rand(784, 256)\n",
        "pesos_camada_dense_aleatorios"
      ],
      "metadata": {
        "colab": {
          "base_uri": "https://localhost:8080/"
        },
        "id": "ei_nHsW9uSWl",
        "outputId": "940e4109-9cfc-4bd9-d1b5-7e0f3ab2beb4"
      },
      "execution_count": null,
      "outputs": [
        {
          "output_type": "execute_result",
          "data": {
            "text/plain": [
              "array([[0.11782659, 0.66460893, 0.82015404, ..., 0.48866492, 0.74987679,\n",
              "        0.79408779],\n",
              "       [0.15215818, 0.58761803, 0.72179262, ..., 0.0079958 , 0.75083057,\n",
              "        0.65167346],\n",
              "       [0.75396759, 0.00569482, 0.95158312, ..., 0.80605674, 0.36943275,\n",
              "        0.52085206],\n",
              "       ...,\n",
              "       [0.4241521 , 0.22676634, 0.89088041, ..., 0.71427299, 0.49404864,\n",
              "        0.55588461],\n",
              "       [0.40980984, 0.4777163 , 0.68983871, ..., 0.23153252, 0.38678111,\n",
              "        0.09754855],\n",
              "       [0.49840574, 0.75934471, 0.41918607, ..., 0.05216811, 0.78592831,\n",
              "        0.92488183]])"
            ]
          },
          "metadata": {},
          "execution_count": 22
        }
      ]
    },
    {
      "cell_type": "code",
      "source": [
        "modelo.layers[1].set_weights(\n",
        "    [pesos_camada_dense_aleatorios, vieses_camada_dense])\n",
        "modelo.layers[1].get_weights()"
      ],
      "metadata": {
        "colab": {
          "base_uri": "https://localhost:8080/"
        },
        "id": "Jnd4HbcduSUG",
        "outputId": "82d01349-5088-448a-cd75-83d93e4b7ae0"
      },
      "execution_count": null,
      "outputs": [
        {
          "output_type": "execute_result",
          "data": {
            "text/plain": [
              "[array([[0.11782659, 0.66460896, 0.8201541 , ..., 0.48866493, 0.7498768 ,\n",
              "         0.79408777],\n",
              "        [0.15215819, 0.58761805, 0.72179264, ..., 0.0079958 , 0.7508306 ,\n",
              "         0.65167344],\n",
              "        [0.7539676 , 0.00569482, 0.95158315, ..., 0.80605674, 0.36943275,\n",
              "         0.520852  ],\n",
              "        ...,\n",
              "        [0.4241521 , 0.22676635, 0.8908804 , ..., 0.714273  , 0.49404866,\n",
              "         0.5558846 ],\n",
              "        [0.40980983, 0.4777163 , 0.6898387 , ..., 0.23153251, 0.38678113,\n",
              "         0.09754855],\n",
              "        [0.49840572, 0.7593447 , 0.41918606, ..., 0.05216812, 0.7859283 ,\n",
              "         0.9248818 ]], dtype=float32),\n",
              " array([-1.91489048e-02, -4.18739952e-02, -2.21289229e-02, -3.13607417e-02,\n",
              "        -2.21344009e-02, -2.44264062e-02, -2.86258534e-02, -3.10114939e-02,\n",
              "        -3.37245166e-02, -3.48941311e-02, -9.38522536e-03,  1.16136912e-02,\n",
              "        -2.61057671e-02, -3.13752145e-02,  8.39822665e-02, -2.04601921e-02,\n",
              "        -4.44976194e-03, -2.72448435e-02, -1.39741944e-02, -2.43219286e-02,\n",
              "        -8.32785666e-03, -2.16525123e-02, -1.98744014e-02, -2.99638622e-02,\n",
              "        -1.66168194e-02, -2.46007536e-02, -1.66440401e-02, -3.05828098e-02,\n",
              "        -4.35629003e-02, -3.26112658e-02, -1.35598853e-02, -2.07626037e-02,\n",
              "        -2.12466773e-02, -8.93477537e-03, -9.64035988e-02, -5.03344797e-02,\n",
              "        -2.64794473e-03, -4.49128523e-02, -1.07194446e-02, -1.13718882e-02,\n",
              "        -1.06936665e-02,  6.54818490e-03, -2.50382740e-02, -9.94320028e-03,\n",
              "        -2.89943311e-02, -6.77425088e-03,  1.35457832e-02, -1.16751883e-02,\n",
              "         1.37588426e-01, -6.43770536e-03, -1.58026367e-02, -1.19461287e-02,\n",
              "        -1.86795611e-02, -2.81789917e-02, -2.26702895e-02, -8.99201911e-03,\n",
              "        -1.43482685e-02, -1.92878656e-02, -2.41730455e-02, -7.02148443e-03,\n",
              "         6.69528618e-02, -3.82110365e-02, -8.24175030e-03, -1.29030980e-02,\n",
              "        -2.43811496e-02, -1.81336198e-02, -2.08030362e-03, -5.92931247e-05,\n",
              "        -4.24856246e-02,  7.74751091e-03, -2.89360713e-02, -1.24939345e-03,\n",
              "        -4.69745360e-02, -1.46580152e-02, -4.31573503e-02, -1.86562669e-02,\n",
              "        -2.15032008e-02,  4.25716210e-03,  7.03383312e-02, -3.14678960e-02,\n",
              "        -1.70447174e-02, -4.03981954e-02, -1.79395638e-02, -2.51263883e-02,\n",
              "         6.99162344e-03,  2.66724676e-01, -1.64203346e-02, -2.83137877e-02,\n",
              "         2.67428346e-02, -1.29465889e-02, -1.92002505e-02, -3.02505470e-03,\n",
              "        -1.49784042e-02, -1.95290931e-02, -2.49725375e-02, -2.80263089e-02,\n",
              "        -2.08857823e-02, -1.57737769e-02, -2.32867561e-02, -2.50114780e-02,\n",
              "        -1.93160865e-02, -1.84963942e-02,  1.40602380e-01, -9.27759986e-03,\n",
              "        -1.51220597e-02,  3.04713529e-02, -3.90077792e-02,  1.42986013e-03,\n",
              "        -1.43853305e-02, -4.17090915e-02, -1.70317423e-02,  3.75970528e-02,\n",
              "        -4.71127145e-02, -2.25043129e-02, -3.24230120e-02,  3.38344835e-02,\n",
              "        -2.05937661e-02, -1.90935209e-02, -1.92440972e-02, -1.54333487e-02,\n",
              "        -2.13935431e-02,  7.96254873e-02, -1.29723940e-02, -1.01045184e-02,\n",
              "        -1.74738448e-02, -3.02737989e-02, -3.39609087e-02, -2.89174877e-02,\n",
              "        -2.18101833e-02, -2.94566248e-02, -3.46472971e-02, -2.37154160e-02,\n",
              "        -2.26981249e-02, -2.10014191e-02, -2.36575846e-02, -1.67256165e-02,\n",
              "         3.07341926e-02, -4.57026847e-02, -1.54577848e-02, -2.47501861e-02,\n",
              "        -1.57293025e-02, -1.21378871e-02, -1.60920173e-02, -1.60171986e-02,\n",
              "        -3.87068838e-02, -2.09209435e-02, -2.50245407e-02,  4.01751744e-03,\n",
              "        -3.06853782e-02, -2.00160779e-02, -1.06864922e-01, -3.81068513e-02,\n",
              "        -3.22334208e-02, -1.46494761e-01, -1.29923392e-02,  6.04751334e-02,\n",
              "        -7.60757877e-03, -3.17257866e-02, -1.83369610e-02, -1.80008590e-01,\n",
              "        -2.88378485e-02, -2.99179740e-02, -3.16085778e-02, -3.43843251e-02,\n",
              "        -1.83611829e-02, -1.88680310e-02,  6.28400303e-04, -2.17301361e-02,\n",
              "        -7.95194414e-03, -2.53051557e-02, -5.59084257e-03, -9.54714417e-03,\n",
              "        -1.05035566e-02, -2.04992771e-01, -3.37637030e-02,  3.86562361e-03,\n",
              "         2.13001538e-02, -1.89815369e-02, -2.50418037e-02, -2.33195424e-02,\n",
              "        -1.99137777e-02, -1.93724725e-02, -1.84325427e-02,  1.28344269e-02,\n",
              "        -2.49085147e-02, -1.47142252e-02, -1.61759350e-02, -8.78756791e-02,\n",
              "        -2.62654163e-02, -2.38083862e-02, -3.45889032e-02, -2.36646738e-02,\n",
              "        -1.68594215e-02,  1.16940506e-01, -1.66227091e-02, -2.35965159e-02,\n",
              "        -2.09154636e-02,  7.63811991e-02,  5.98641532e-03, -2.27125566e-02,\n",
              "         3.57381180e-02,  4.59707063e-03, -3.43932323e-02,  2.44746692e-02,\n",
              "        -1.22616813e-02, -5.17455712e-02, -2.32035201e-02,  4.68765572e-02,\n",
              "        -1.93442609e-02, -1.35053732e-02, -4.37391140e-02, -6.18242100e-02,\n",
              "        -2.10202988e-02, -1.57112945e-02, -1.42536405e-02, -1.47728436e-02,\n",
              "        -1.49116851e-02,  8.32610705e-04, -3.35315503e-02, -2.14228351e-02,\n",
              "        -1.07162371e-02, -1.39612537e-02, -2.51189265e-02, -4.23944443e-02,\n",
              "        -1.90039612e-02, -1.85900703e-02, -2.89138835e-02, -1.99132003e-02,\n",
              "        -2.46338751e-02, -2.52713580e-02, -3.70730497e-02, -2.14204788e-02,\n",
              "        -2.03142185e-02, -2.69526374e-02, -2.64131799e-02, -1.71726018e-01,\n",
              "        -4.99930046e-02, -6.54966990e-03, -1.01285959e-02, -2.32109465e-02,\n",
              "        -1.88680738e-02, -2.02230867e-02,  3.50762419e-02, -2.01811735e-02,\n",
              "        -1.10550802e-02,  2.70476136e-02, -1.92921180e-02,  2.46757991e-03,\n",
              "        -1.42744938e-02, -1.05996970e-02, -2.37538237e-02, -3.99674475e-02,\n",
              "        -4.04574722e-02, -3.15620750e-02, -2.50818823e-02,  7.80261382e-02],\n",
              "       dtype=float32)]"
            ]
          },
          "metadata": {},
          "execution_count": 23
        }
      ]
    },
    {
      "cell_type": "code",
      "source": [
        "modelo.compile(optimizer='adam', \n",
        "               loss='sparse_categorical_crossentropy',\n",
        "               metrics=['accuracy'])\n",
        "historico = modelo.fit(imagens_treino, identificacoes_treino, epochs=5, validation_split=0.2)"
      ],
      "metadata": {
        "colab": {
          "base_uri": "https://localhost:8080/"
        },
        "id": "sEiVq3YpuSRG",
        "outputId": "d1e9690a-d54b-4f95-c893-8755a35b55fd"
      },
      "execution_count": null,
      "outputs": [
        {
          "output_type": "stream",
          "name": "stdout",
          "text": [
            "Epoch 1/5\n",
            "1500/1500 [==============================] - 6s 4ms/step - loss: 10648.9385 - accuracy: 0.4115 - val_loss: 1706.4536 - val_accuracy: 0.7088\n",
            "Epoch 2/5\n",
            "1500/1500 [==============================] - 5s 3ms/step - loss: 2559.9407 - accuracy: 0.6029 - val_loss: 1808.6096 - val_accuracy: 0.6323\n",
            "Epoch 3/5\n",
            "1500/1500 [==============================] - 5s 4ms/step - loss: 1188.1317 - accuracy: 0.6490 - val_loss: 860.8752 - val_accuracy: 0.6868\n",
            "Epoch 4/5\n",
            "1500/1500 [==============================] - 5s 3ms/step - loss: 596.4458 - accuracy: 0.6803 - val_loss: 268.9641 - val_accuracy: 0.7683\n",
            "Epoch 5/5\n",
            "1500/1500 [==============================] - 6s 4ms/step - loss: 298.9110 - accuracy: 0.7236 - val_loss: 187.2983 - val_accuracy: 0.7220\n"
          ]
        }
      ]
    },
    {
      "cell_type": "code",
      "source": [
        "plt.plot(historico.history['accuracy'])\n",
        "plt.plot(historico.history['val_accuracy'])\n",
        "plt.title('Acurácia por épocas')\n",
        "plt.xlabel('Épocas')\n",
        "plt.ylabel('Acurácia')\n",
        "\n",
        "plt.legend(['Treino', 'Validação'])"
      ],
      "metadata": {
        "colab": {
          "base_uri": "https://localhost:8080/",
          "height": 314
        },
        "id": "r8q6Q6VzuSOU",
        "outputId": "40ccef8f-73cb-4f18-9129-0d34d279e831"
      },
      "execution_count": null,
      "outputs": [
        {
          "output_type": "execute_result",
          "data": {
            "text/plain": [
              "<matplotlib.legend.Legend at 0x7f05ab8102d0>"
            ]
          },
          "metadata": {},
          "execution_count": 25
        },
        {
          "output_type": "display_data",
          "data": {
            "text/plain": [
              "<Figure size 432x288 with 1 Axes>"
            ],
            "image/png": "[encoded data removed]"
          },
          "metadata": {
            "needs_background": "light"
          }
        }
      ]
    },
    {
      "cell_type": "code",
      "source": [
        "plt.plot(historico.history['loss'])\n",
        "plt.plot(historico.history['val_loss'])\n",
        "plt.title('Perda por épocas')\n",
        "plt.xlabel('Épocas')\n",
        "plt.ylabel('Perda')\n",
        "\n",
        "plt.legend(['Treino', 'Validação'])"
      ],
      "metadata": {
        "colab": {
          "base_uri": "https://localhost:8080/",
          "height": 314
        },
        "id": "zm6xmYabuSLl",
        "outputId": "868037b8-f512-4168-a18c-73c907069c12"
      },
      "execution_count": null,
      "outputs": [
        {
          "output_type": "execute_result",
          "data": {
            "text/plain": [
              "<matplotlib.legend.Legend at 0x7f05ab6613d0>"
            ]
          },
          "metadata": {},
          "execution_count": 26
        },
        {
          "output_type": "display_data",
          "data": {
            "text/plain": [
              "<Figure size 432x288 with 1 Axes>"
            ],
            "image/png": "[encoded data removed]"
          },
          "metadata": {
            "needs_background": "light"
          }
        }
      ]
    },
    {
      "cell_type": "code",
      "source": [
        "modelo.get_config()"
      ],
      "metadata": {
        "colab": {
          "base_uri": "https://localhost:8080/"
        },
        "id": "_OQQ-11zAV9t",
        "outputId": "9d5b9056-7e54-47e7-a5c3-79fc0bca2861"
      },
      "execution_count": null,
      "outputs": [
        {
          "output_type": "execute_result",
          "data": {
            "text/plain": [
              "{'layers': [{'class_name': 'InputLayer',\n",
              "   'config': {'batch_input_shape': (None, 28, 28),\n",
              "    'dtype': 'float32',\n",
              "    'name': 'flatten_input',\n",
              "    'ragged': False,\n",
              "    'sparse': False}},\n",
              "  {'class_name': 'Flatten',\n",
              "   'config': {'batch_input_shape': (None, 28, 28),\n",
              "    'data_format': 'channels_last',\n",
              "    'dtype': 'float32',\n",
              "    'name': 'flatten',\n",
              "    'trainable': True}},\n",
              "  {'class_name': 'Dense',\n",
              "   'config': {'activation': 'relu',\n",
              "    'activity_regularizer': None,\n",
              "    'bias_constraint': None,\n",
              "    'bias_initializer': {'class_name': 'Zeros', 'config': {}},\n",
              "    'bias_regularizer': None,\n",
              "    'dtype': 'float32',\n",
              "    'kernel_constraint': None,\n",
              "    'kernel_initializer': {'class_name': 'GlorotUniform',\n",
              "     'config': {'seed': None}},\n",
              "    'kernel_regularizer': None,\n",
              "    'name': 'dense',\n",
              "    'trainable': True,\n",
              "    'units': 256,\n",
              "    'use_bias': True}},\n",
              "  {'class_name': 'Dropout',\n",
              "   'config': {'dtype': 'float32',\n",
              "    'name': 'dropout',\n",
              "    'noise_shape': None,\n",
              "    'rate': 0.2,\n",
              "    'seed': None,\n",
              "    'trainable': True}},\n",
              "  {'class_name': 'Dense',\n",
              "   'config': {'activation': 'softmax',\n",
              "    'activity_regularizer': None,\n",
              "    'bias_constraint': None,\n",
              "    'bias_initializer': {'class_name': 'Zeros', 'config': {}},\n",
              "    'bias_regularizer': None,\n",
              "    'dtype': 'float32',\n",
              "    'kernel_constraint': None,\n",
              "    'kernel_initializer': {'class_name': 'GlorotUniform',\n",
              "     'config': {'seed': None}},\n",
              "    'kernel_regularizer': None,\n",
              "    'name': 'dense_1',\n",
              "    'trainable': True,\n",
              "    'units': 10,\n",
              "    'use_bias': True}}],\n",
              " 'name': 'sequential'}"
            ]
          },
          "metadata": {},
          "execution_count": 28
        }
      ]
    },
    {
      "cell_type": "markdown",
      "source": [
        "# **03 Entendendo as unidades e buscando a menor perda**"
      ],
      "metadata": {
        "id": "UJLJsDyS_xSV"
      }
    },
    {
      "cell_type": "markdown",
      "source": [
        "## **A mudança na classificação**"
      ],
      "metadata": {
        "id": "cSzaXuLh_1Xw"
      }
    },
    {
      "cell_type": "code",
      "source": [
        "vieses_camada_dense = modelo.layers[1].get_weights()[1]\n",
        "vieses_camada_dense"
      ],
      "metadata": {
        "id": "suCesjQmuSIs",
        "colab": {
          "base_uri": "https://localhost:8080/"
        },
        "outputId": "841a625f-0051-4add-ba01-95a01727bcb8"
      },
      "execution_count": null,
      "outputs": [
        {
          "output_type": "execute_result",
          "data": {
            "text/plain": [
              "array([ 0.48783308, -1.2946459 ,  0.27159032, -0.71748114, -0.91223925,\n",
              "       -0.5526537 , -0.9116333 , -0.36761484, -0.957028  ,  0.1978278 ,\n",
              "       -0.39301825,  0.2614022 , -0.5207709 , -0.66499627, -0.04925497,\n",
              "        0.10706717, -0.4344538 , -0.19146162, -0.6222482 , -0.36786026,\n",
              "        0.27625895, -0.513858  , -0.86169827, -0.99566966, -0.05544624,\n",
              "       -1.0129627 , -1.3422121 , -0.91803044, -0.1167152 , -1.0730903 ,\n",
              "        0.09620749, -1.0588597 , -0.9264193 , -0.8773809 , -0.22231568,\n",
              "       -1.6954248 ,  0.30386573, -1.0998797 , -1.1213629 , -0.26653773,\n",
              "        0.6634388 , -0.29867414, -0.612431  , -1.1023146 , -0.24731056,\n",
              "        0.02142259, -1.4065061 , -0.24600115, -0.22450133, -0.10344266,\n",
              "       -0.7789995 , -0.07233977, -0.94582516, -0.24891077, -1.3407766 ,\n",
              "        0.15623866, -0.20424336, -0.5294102 , -0.824125  , -0.1403706 ,\n",
              "       -0.77871346, -0.10607827,  0.00453287,  0.68914884,  0.31383356,\n",
              "       -0.51875484,  0.19331795,  0.58925486, -1.464502  ,  0.62902796,\n",
              "       -1.0387003 , -0.02774093, -0.52149343, -1.3746194 , -0.9357949 ,\n",
              "       -0.9538669 , -0.88680047, -0.05837581, -0.29688376,  0.08367976,\n",
              "       -0.36004353, -0.3831896 , -0.88154525, -1.3476437 ,  0.04910798,\n",
              "       -0.215968  , -0.9507925 , -0.42825818, -0.3698569 ,  0.13606192,\n",
              "        0.03683203,  0.28441995, -0.8005587 , -1.3518447 , -1.1316882 ,\n",
              "       -1.0304153 , -0.5932494 , -1.1808552 , -1.010704  , -0.7588987 ,\n",
              "       -0.6988071 ,  0.41242433, -0.4253334 , -1.0622205 , -0.31008574,\n",
              "        0.41516757, -1.4644368 , -0.08739427,  0.08569371, -0.9658714 ,\n",
              "       -1.6344212 , -0.00171995, -0.34790066, -0.9430107 , -1.4386235 ,\n",
              "       -0.17368563, -1.1784592 , -0.04985602,  0.24716146, -0.47866216,\n",
              "       -1.4291316 , -0.2934129 , -0.33442128, -0.18389454, -0.15732995,\n",
              "       -1.2288781 , -0.2036463 ,  0.03469837, -0.38793284, -0.5582248 ,\n",
              "       -0.25022578, -0.74341136, -0.65991807, -0.17300838, -0.16984148,\n",
              "       -0.06429717, -0.45550805, -0.81066763, -1.1490269 , -0.5571431 ,\n",
              "       -0.2870035 , -1.1504141 ,  0.47144288, -0.18833153, -0.96250147,\n",
              "        0.17177638,  0.18056327,  0.4114464 , -1.2465979 , -0.490643  ,\n",
              "       -1.1691811 , -0.5655724 , -0.6468679 , -0.16959375, -0.78280276,\n",
              "       -0.45312738, -1.3657798 , -0.9611832 , -0.17534122, -0.92006665,\n",
              "        0.27396077, -0.6376632 , -1.4494094 , -1.2510906 ,  0.32682595,\n",
              "       -0.38900918, -0.38566485,  0.00771582, -0.71011484, -0.3766505 ,\n",
              "       -1.1001318 , -0.17855452, -0.8193231 , -0.33862177, -1.1998104 ,\n",
              "        0.23350264,  0.05876059,  0.17389378, -0.77148575, -0.94385296,\n",
              "       -0.26066968, -0.90772265, -0.06561703, -0.4090451 , -0.8481538 ,\n",
              "       -0.90264165, -1.437601  ,  0.04240664, -0.52232575, -1.2322294 ,\n",
              "       -1.4959984 , -1.0195374 , -1.1452079 , -0.11473697, -0.6349784 ,\n",
              "       -0.8997057 , -0.20259291,  0.21147595,  0.18663603, -0.5236014 ,\n",
              "       -0.28082082,  0.17584425, -1.2519602 , -0.36540428, -0.9071857 ,\n",
              "       -1.2042742 , -0.2921026 , -0.3586384 , -0.15198   , -0.3720645 ,\n",
              "       -0.62414694,  0.00476919, -0.06726844, -0.7451098 , -0.871654  ,\n",
              "       -1.2528789 , -1.0656301 , -0.43713713, -0.8378389 , -1.2814856 ,\n",
              "       -0.7865084 , -1.0593728 , -1.1493448 , -0.6465988 , -0.07896795,\n",
              "       -0.34880087, -1.299224  , -1.0076343 , -0.37408304, -0.2612181 ,\n",
              "       -1.129828  , -0.3669889 , -0.6915133 , -0.81069005, -0.557112  ,\n",
              "       -0.7320236 , -1.164807  , -0.5661675 , -1.2646358 ,  0.1189499 ,\n",
              "       -1.2469856 , -0.51082194,  0.1527126 , -0.9396107 ,  0.08858453,\n",
              "        0.299386  , -1.004283  , -0.04402994,  0.15446302,  0.03274814,\n",
              "       -0.7708531 , -1.3726745 , -1.5808913 , -1.0994381 , -0.66308117,\n",
              "       -0.05748707], dtype=float32)"
            ]
          },
          "metadata": {},
          "execution_count": 31
        }
      ]
    },
    {
      "cell_type": "code",
      "source": [
        "vieses_camada_dense.shape"
      ],
      "metadata": {
        "id": "20pVkzSXuSG3",
        "colab": {
          "base_uri": "https://localhost:8080/"
        },
        "outputId": "6e3759e9-e436-4f56-d3c0-f18ac3a7a33a"
      },
      "execution_count": null,
      "outputs": [
        {
          "output_type": "execute_result",
          "data": {
            "text/plain": [
              "(256,)"
            ]
          },
          "metadata": {},
          "execution_count": 32
        }
      ]
    },
    {
      "cell_type": "code",
      "source": [
        "vieses_camada_dense_zerados = np.zeros(256,)\n",
        "vieses_camada_dense_zerados"
      ],
      "metadata": {
        "colab": {
          "base_uri": "https://localhost:8080/"
        },
        "id": "Fm9DEPHNAm4n",
        "outputId": "7afb6aef-deb4-4bd9-8d9f-fc0112948ea1"
      },
      "execution_count": null,
      "outputs": [
        {
          "output_type": "execute_result",
          "data": {
            "text/plain": [
              "array([0., 0., 0., 0., 0., 0., 0., 0., 0., 0., 0., 0., 0., 0., 0., 0., 0.,\n",
              "       0., 0., 0., 0., 0., 0., 0., 0., 0., 0., 0., 0., 0., 0., 0., 0., 0.,\n",
              "       0., 0., 0., 0., 0., 0., 0., 0., 0., 0., 0., 0., 0., 0., 0., 0., 0.,\n",
              "       0., 0., 0., 0., 0., 0., 0., 0., 0., 0., 0., 0., 0., 0., 0., 0., 0.,\n",
              "       0., 0., 0., 0., 0., 0., 0., 0., 0., 0., 0., 0., 0., 0., 0., 0., 0.,\n",
              "       0., 0., 0., 0., 0., 0., 0., 0., 0., 0., 0., 0., 0., 0., 0., 0., 0.,\n",
              "       0., 0., 0., 0., 0., 0., 0., 0., 0., 0., 0., 0., 0., 0., 0., 0., 0.,\n",
              "       0., 0., 0., 0., 0., 0., 0., 0., 0., 0., 0., 0., 0., 0., 0., 0., 0.,\n",
              "       0., 0., 0., 0., 0., 0., 0., 0., 0., 0., 0., 0., 0., 0., 0., 0., 0.,\n",
              "       0., 0., 0., 0., 0., 0., 0., 0., 0., 0., 0., 0., 0., 0., 0., 0., 0.,\n",
              "       0., 0., 0., 0., 0., 0., 0., 0., 0., 0., 0., 0., 0., 0., 0., 0., 0.,\n",
              "       0., 0., 0., 0., 0., 0., 0., 0., 0., 0., 0., 0., 0., 0., 0., 0., 0.,\n",
              "       0., 0., 0., 0., 0., 0., 0., 0., 0., 0., 0., 0., 0., 0., 0., 0., 0.,\n",
              "       0., 0., 0., 0., 0., 0., 0., 0., 0., 0., 0., 0., 0., 0., 0., 0., 0.,\n",
              "       0., 0., 0., 0., 0., 0., 0., 0., 0., 0., 0., 0., 0., 0., 0., 0., 0.,\n",
              "       0.])"
            ]
          },
          "metadata": {},
          "execution_count": 34
        }
      ]
    },
    {
      "cell_type": "code",
      "source": [
        "modelo.layers[1].set_weights(\n",
        "    [pesos_camada_dense_zerados, vieses_camada_dense_zerados])\n",
        "modelo.layers[1].get_weights()"
      ],
      "metadata": {
        "colab": {
          "base_uri": "https://localhost:8080/"
        },
        "id": "uqMjZPWeAmsL",
        "outputId": "cb2f748c-6331-4c49-b54f-d485026b71ea"
      },
      "execution_count": null,
      "outputs": [
        {
          "output_type": "execute_result",
          "data": {
            "text/plain": [
              "[array([[0., 0., 0., ..., 0., 0., 0.],\n",
              "        [0., 0., 0., ..., 0., 0., 0.],\n",
              "        [0., 0., 0., ..., 0., 0., 0.],\n",
              "        ...,\n",
              "        [0., 0., 0., ..., 0., 0., 0.],\n",
              "        [0., 0., 0., ..., 0., 0., 0.],\n",
              "        [0., 0., 0., ..., 0., 0., 0.]], dtype=float32),\n",
              " array([0., 0., 0., 0., 0., 0., 0., 0., 0., 0., 0., 0., 0., 0., 0., 0., 0.,\n",
              "        0., 0., 0., 0., 0., 0., 0., 0., 0., 0., 0., 0., 0., 0., 0., 0., 0.,\n",
              "        0., 0., 0., 0., 0., 0., 0., 0., 0., 0., 0., 0., 0., 0., 0., 0., 0.,\n",
              "        0., 0., 0., 0., 0., 0., 0., 0., 0., 0., 0., 0., 0., 0., 0., 0., 0.,\n",
              "        0., 0., 0., 0., 0., 0., 0., 0., 0., 0., 0., 0., 0., 0., 0., 0., 0.,\n",
              "        0., 0., 0., 0., 0., 0., 0., 0., 0., 0., 0., 0., 0., 0., 0., 0., 0.,\n",
              "        0., 0., 0., 0., 0., 0., 0., 0., 0., 0., 0., 0., 0., 0., 0., 0., 0.,\n",
              "        0., 0., 0., 0., 0., 0., 0., 0., 0., 0., 0., 0., 0., 0., 0., 0., 0.,\n",
              "        0., 0., 0., 0., 0., 0., 0., 0., 0., 0., 0., 0., 0., 0., 0., 0., 0.,\n",
              "        0., 0., 0., 0., 0., 0., 0., 0., 0., 0., 0., 0., 0., 0., 0., 0., 0.,\n",
              "        0., 0., 0., 0., 0., 0., 0., 0., 0., 0., 0., 0., 0., 0., 0., 0., 0.,\n",
              "        0., 0., 0., 0., 0., 0., 0., 0., 0., 0., 0., 0., 0., 0., 0., 0., 0.,\n",
              "        0., 0., 0., 0., 0., 0., 0., 0., 0., 0., 0., 0., 0., 0., 0., 0., 0.,\n",
              "        0., 0., 0., 0., 0., 0., 0., 0., 0., 0., 0., 0., 0., 0., 0., 0., 0.,\n",
              "        0., 0., 0., 0., 0., 0., 0., 0., 0., 0., 0., 0., 0., 0., 0., 0., 0.,\n",
              "        0.], dtype=float32)]"
            ]
          },
          "metadata": {},
          "execution_count": 37
        }
      ]
    },
    {
      "cell_type": "code",
      "source": [
        "modelo.compile(optimizer='adam', \n",
        "               loss='sparse_categorical_crossentropy',\n",
        "               metrics=['accuracy'])\n",
        "historico = modelo.fit(imagens_treino, identificacoes_treino, epochs=5, validation_split=0.2)"
      ],
      "metadata": {
        "colab": {
          "base_uri": "https://localhost:8080/"
        },
        "id": "GevGyzzLAmpk",
        "outputId": "491aaa25-bd2d-48f7-80c6-89b1a2628703"
      },
      "execution_count": null,
      "outputs": [
        {
          "output_type": "stream",
          "name": "stdout",
          "text": [
            "Epoch 1/5\n",
            "1500/1500 [==============================] - 6s 4ms/step - loss: 2.7430 - accuracy: 0.1011 - val_loss: 2.4953 - val_accuracy: 0.0957\n",
            "Epoch 2/5\n",
            "1500/1500 [==============================] - 7s 5ms/step - loss: 2.3915 - accuracy: 0.1011 - val_loss: 2.3303 - val_accuracy: 0.0957\n",
            "Epoch 3/5\n",
            "1500/1500 [==============================] - 6s 4ms/step - loss: 2.3113 - accuracy: 0.1007 - val_loss: 2.3036 - val_accuracy: 0.0957\n",
            "Epoch 4/5\n",
            "1500/1500 [==============================] - 7s 4ms/step - loss: 2.3029 - accuracy: 0.1004 - val_loss: 2.3027 - val_accuracy: 0.1005\n",
            "Epoch 5/5\n",
            "1500/1500 [==============================] - 6s 4ms/step - loss: 2.3027 - accuracy: 0.0981 - val_loss: 2.3028 - val_accuracy: 0.0957\n"
          ]
        }
      ]
    },
    {
      "cell_type": "code",
      "source": [
        "plt.plot(historico.history['accuracy'])\n",
        "plt.plot(historico.history['val_accuracy'])\n",
        "plt.title('Acurácia por épocas')\n",
        "plt.xlabel('Épocas')\n",
        "plt.ylabel('Acurácia')\n",
        "\n",
        "plt.legend(['Treino', 'Validação'])"
      ],
      "metadata": {
        "colab": {
          "base_uri": "https://localhost:8080/",
          "height": 314
        },
        "id": "6DhyZ368Amm5",
        "outputId": "c0f1fdde-f2fe-4261-9e4d-1bdf5a3ae4e4"
      },
      "execution_count": null,
      "outputs": [
        {
          "output_type": "execute_result",
          "data": {
            "text/plain": [
              "<matplotlib.legend.Legend at 0x7f05ab13a690>"
            ]
          },
          "metadata": {},
          "execution_count": 39
        },
        {
          "output_type": "display_data",
          "data": {
            "text/plain": [
              "<Figure size 432x288 with 1 Axes>"
            ],
            "image/png": "[encoded data removed]"
          },
          "metadata": {
            "needs_background": "light"
          }
        }
      ]
    },
    {
      "cell_type": "code",
      "source": [
        "plt.plot(historico.history['loss'])\n",
        "plt.plot(historico.history['val_loss'])\n",
        "plt.title('Perda por épocas')\n",
        "plt.xlabel('Épocas')\n",
        "plt.ylabel('Perda')\n",
        "\n",
        "plt.legend(['Treino', 'Validação'])"
      ],
      "metadata": {
        "colab": {
          "base_uri": "https://localhost:8080/",
          "height": 314
        },
        "id": "b5QPB480AmkP",
        "outputId": "e944aae4-5105-433c-9ddc-c930bb148804"
      },
      "execution_count": null,
      "outputs": [
        {
          "output_type": "execute_result",
          "data": {
            "text/plain": [
              "<matplotlib.legend.Legend at 0x7f05ab0b3490>"
            ]
          },
          "metadata": {},
          "execution_count": 40
        },
        {
          "output_type": "display_data",
          "data": {
            "text/plain": [
              "<Figure size 432x288 with 1 Axes>"
            ],
            "image/png": "[encoded data removed]"
          },
          "metadata": {
            "needs_background": "light"
          }
        }
      ]
    },
    {
      "cell_type": "code",
      "source": [
        "modelo.layers[1].set_weights(\n",
        "    [pesos_camada_dense_aleatorios, vieses_camada_dense])\n",
        "modelo.layers[1].get_weights()"
      ],
      "metadata": {
        "colab": {
          "base_uri": "https://localhost:8080/"
        },
        "id": "uQpe2tZNAmhe",
        "outputId": "5d88bff4-e9f2-4ffe-ce67-7a5d8b1607a6"
      },
      "execution_count": null,
      "outputs": [
        {
          "output_type": "execute_result",
          "data": {
            "text/plain": [
              "[array([[0.11782659, 0.66460896, 0.8201541 , ..., 0.48866493, 0.7498768 ,\n",
              "         0.79408777],\n",
              "        [0.15215819, 0.58761805, 0.72179264, ..., 0.0079958 , 0.7508306 ,\n",
              "         0.65167344],\n",
              "        [0.7539676 , 0.00569482, 0.95158315, ..., 0.80605674, 0.36943275,\n",
              "         0.520852  ],\n",
              "        ...,\n",
              "        [0.4241521 , 0.22676635, 0.8908804 , ..., 0.714273  , 0.49404866,\n",
              "         0.5558846 ],\n",
              "        [0.40980983, 0.4777163 , 0.6898387 , ..., 0.23153251, 0.38678113,\n",
              "         0.09754855],\n",
              "        [0.49840572, 0.7593447 , 0.41918606, ..., 0.05216812, 0.7859283 ,\n",
              "         0.9248818 ]], dtype=float32),\n",
              " array([ 0.48783308, -1.2946459 ,  0.27159032, -0.71748114, -0.91223925,\n",
              "        -0.5526537 , -0.9116333 , -0.36761484, -0.957028  ,  0.1978278 ,\n",
              "        -0.39301825,  0.2614022 , -0.5207709 , -0.66499627, -0.04925497,\n",
              "         0.10706717, -0.4344538 , -0.19146162, -0.6222482 , -0.36786026,\n",
              "         0.27625895, -0.513858  , -0.86169827, -0.99566966, -0.05544624,\n",
              "        -1.0129627 , -1.3422121 , -0.91803044, -0.1167152 , -1.0730903 ,\n",
              "         0.09620749, -1.0588597 , -0.9264193 , -0.8773809 , -0.22231568,\n",
              "        -1.6954248 ,  0.30386573, -1.0998797 , -1.1213629 , -0.26653773,\n",
              "         0.6634388 , -0.29867414, -0.612431  , -1.1023146 , -0.24731056,\n",
              "         0.02142259, -1.4065061 , -0.24600115, -0.22450133, -0.10344266,\n",
              "        -0.7789995 , -0.07233977, -0.94582516, -0.24891077, -1.3407766 ,\n",
              "         0.15623866, -0.20424336, -0.5294102 , -0.824125  , -0.1403706 ,\n",
              "        -0.77871346, -0.10607827,  0.00453287,  0.68914884,  0.31383356,\n",
              "        -0.51875484,  0.19331795,  0.58925486, -1.464502  ,  0.62902796,\n",
              "        -1.0387003 , -0.02774093, -0.52149343, -1.3746194 , -0.9357949 ,\n",
              "        -0.9538669 , -0.88680047, -0.05837581, -0.29688376,  0.08367976,\n",
              "        -0.36004353, -0.3831896 , -0.88154525, -1.3476437 ,  0.04910798,\n",
              "        -0.215968  , -0.9507925 , -0.42825818, -0.3698569 ,  0.13606192,\n",
              "         0.03683203,  0.28441995, -0.8005587 , -1.3518447 , -1.1316882 ,\n",
              "        -1.0304153 , -0.5932494 , -1.1808552 , -1.010704  , -0.7588987 ,\n",
              "        -0.6988071 ,  0.41242433, -0.4253334 , -1.0622205 , -0.31008574,\n",
              "         0.41516757, -1.4644368 , -0.08739427,  0.08569371, -0.9658714 ,\n",
              "        -1.6344212 , -0.00171995, -0.34790066, -0.9430107 , -1.4386235 ,\n",
              "        -0.17368563, -1.1784592 , -0.04985602,  0.24716146, -0.47866216,\n",
              "        -1.4291316 , -0.2934129 , -0.33442128, -0.18389454, -0.15732995,\n",
              "        -1.2288781 , -0.2036463 ,  0.03469837, -0.38793284, -0.5582248 ,\n",
              "        -0.25022578, -0.74341136, -0.65991807, -0.17300838, -0.16984148,\n",
              "        -0.06429717, -0.45550805, -0.81066763, -1.1490269 , -0.5571431 ,\n",
              "        -0.2870035 , -1.1504141 ,  0.47144288, -0.18833153, -0.96250147,\n",
              "         0.17177638,  0.18056327,  0.4114464 , -1.2465979 , -0.490643  ,\n",
              "        -1.1691811 , -0.5655724 , -0.6468679 , -0.16959375, -0.78280276,\n",
              "        -0.45312738, -1.3657798 , -0.9611832 , -0.17534122, -0.92006665,\n",
              "         0.27396077, -0.6376632 , -1.4494094 , -1.2510906 ,  0.32682595,\n",
              "        -0.38900918, -0.38566485,  0.00771582, -0.71011484, -0.3766505 ,\n",
              "        -1.1001318 , -0.17855452, -0.8193231 , -0.33862177, -1.1998104 ,\n",
              "         0.23350264,  0.05876059,  0.17389378, -0.77148575, -0.94385296,\n",
              "        -0.26066968, -0.90772265, -0.06561703, -0.4090451 , -0.8481538 ,\n",
              "        -0.90264165, -1.437601  ,  0.04240664, -0.52232575, -1.2322294 ,\n",
              "        -1.4959984 , -1.0195374 , -1.1452079 , -0.11473697, -0.6349784 ,\n",
              "        -0.8997057 , -0.20259291,  0.21147595,  0.18663603, -0.5236014 ,\n",
              "        -0.28082082,  0.17584425, -1.2519602 , -0.36540428, -0.9071857 ,\n",
              "        -1.2042742 , -0.2921026 , -0.3586384 , -0.15198   , -0.3720645 ,\n",
              "        -0.62414694,  0.00476919, -0.06726844, -0.7451098 , -0.871654  ,\n",
              "        -1.2528789 , -1.0656301 , -0.43713713, -0.8378389 , -1.2814856 ,\n",
              "        -0.7865084 , -1.0593728 , -1.1493448 , -0.6465988 , -0.07896795,\n",
              "        -0.34880087, -1.299224  , -1.0076343 , -0.37408304, -0.2612181 ,\n",
              "        -1.129828  , -0.3669889 , -0.6915133 , -0.81069005, -0.557112  ,\n",
              "        -0.7320236 , -1.164807  , -0.5661675 , -1.2646358 ,  0.1189499 ,\n",
              "        -1.2469856 , -0.51082194,  0.1527126 , -0.9396107 ,  0.08858453,\n",
              "         0.299386  , -1.004283  , -0.04402994,  0.15446302,  0.03274814,\n",
              "        -0.7708531 , -1.3726745 , -1.5808913 , -1.0994381 , -0.66308117,\n",
              "        -0.05748707], dtype=float32)]"
            ]
          },
          "metadata": {},
          "execution_count": 41
        }
      ]
    },
    {
      "cell_type": "code",
      "source": [
        "modelo.compile(optimizer='adam', \n",
        "               loss='sparse_categorical_crossentropy',\n",
        "               metrics=['accuracy'])\n",
        "historico = modelo.fit(imagens_treino, identificacoes_treino, epochs=5, validation_split=0.2)"
      ],
      "metadata": {
        "colab": {
          "base_uri": "https://localhost:8080/"
        },
        "id": "1PM9LQOIAmet",
        "outputId": "b3db1468-88c9-420d-81e8-6cbbe153b03d"
      },
      "execution_count": null,
      "outputs": [
        {
          "output_type": "stream",
          "name": "stdout",
          "text": [
            "Epoch 1/5\n",
            "1500/1500 [==============================] - 6s 4ms/step - loss: 2391.0542 - accuracy: 0.3638 - val_loss: 652.3140 - val_accuracy: 0.5960\n",
            "Epoch 2/5\n",
            "1500/1500 [==============================] - 5s 4ms/step - loss: 858.5492 - accuracy: 0.5584 - val_loss: 764.2557 - val_accuracy: 0.5833\n",
            "Epoch 3/5\n",
            "1500/1500 [==============================] - 5s 4ms/step - loss: 473.2591 - accuracy: 0.6482 - val_loss: 360.3569 - val_accuracy: 0.6298\n",
            "Epoch 4/5\n",
            "1500/1500 [==============================] - 5s 4ms/step - loss: 238.1377 - accuracy: 0.7061 - val_loss: 164.6979 - val_accuracy: 0.7230\n",
            "Epoch 5/5\n",
            "1500/1500 [==============================] - 5s 4ms/step - loss: 90.2335 - accuracy: 0.7468 - val_loss: 57.8860 - val_accuracy: 0.7732\n"
          ]
        }
      ]
    },
    {
      "cell_type": "code",
      "source": [
        "plt.plot(historico.history['accuracy'])\n",
        "plt.plot(historico.history['val_accuracy'])\n",
        "plt.title('Acurácia por épocas')\n",
        "plt.xlabel('Épocas')\n",
        "plt.ylabel('Acurácia')\n",
        "\n",
        "plt.legend(['Treino', 'Validação'])"
      ],
      "metadata": {
        "colab": {
          "base_uri": "https://localhost:8080/",
          "height": 314
        },
        "id": "2tROYSnVAmcT",
        "outputId": "545b0f0b-9c64-477c-c202-76e26910d3e4"
      },
      "execution_count": null,
      "outputs": [
        {
          "output_type": "execute_result",
          "data": {
            "text/plain": [
              "<matplotlib.legend.Legend at 0x7f05a966a510>"
            ]
          },
          "metadata": {},
          "execution_count": 43
        },
        {
          "output_type": "display_data",
          "data": {
            "text/plain": [
              "<Figure size 432x288 with 1 Axes>"
            ],
            "image/png": "[encoded data removed]"
          },
          "metadata": {
            "needs_background": "light"
          }
        }
      ]
    },
    {
      "cell_type": "code",
      "source": [
        "plt.plot(historico.history['loss'])\n",
        "plt.plot(historico.history['val_loss'])\n",
        "plt.title('Perda por épocas')\n",
        "plt.xlabel('Épocas')\n",
        "plt.ylabel('Perda')\n",
        "\n",
        "plt.legend(['Treino', 'Validação'])"
      ],
      "metadata": {
        "colab": {
          "base_uri": "https://localhost:8080/",
          "height": 314
        },
        "id": "uK4Cxt1OAmZb",
        "outputId": "ab8673e0-a19e-432c-f8a6-bb09eddf8650"
      },
      "execution_count": null,
      "outputs": [
        {
          "output_type": "execute_result",
          "data": {
            "text/plain": [
              "<matplotlib.legend.Legend at 0x7f05a95c8450>"
            ]
          },
          "metadata": {},
          "execution_count": 44
        },
        {
          "output_type": "display_data",
          "data": {
            "text/plain": [
              "<Figure size 432x288 with 1 Axes>"
            ],
            "image/png": "[encoded data removed]"
          },
          "metadata": {
            "needs_background": "light"
          }
        }
      ]
    },
    {
      "cell_type": "code",
      "source": [
        "modelo.get_config()"
      ],
      "metadata": {
        "colab": {
          "base_uri": "https://localhost:8080/"
        },
        "id": "71_gKoYLAmWp",
        "outputId": "7b048021-5528-4677-c5e2-e18d975c53f6"
      },
      "execution_count": null,
      "outputs": [
        {
          "output_type": "execute_result",
          "data": {
            "text/plain": [
              "{'layers': [{'class_name': 'InputLayer',\n",
              "   'config': {'batch_input_shape': (None, 28, 28),\n",
              "    'dtype': 'float32',\n",
              "    'name': 'flatten_input',\n",
              "    'ragged': False,\n",
              "    'sparse': False}},\n",
              "  {'class_name': 'Flatten',\n",
              "   'config': {'batch_input_shape': (None, 28, 28),\n",
              "    'data_format': 'channels_last',\n",
              "    'dtype': 'float32',\n",
              "    'name': 'flatten',\n",
              "    'trainable': True}},\n",
              "  {'class_name': 'Dense',\n",
              "   'config': {'activation': 'relu',\n",
              "    'activity_regularizer': None,\n",
              "    'bias_constraint': None,\n",
              "    'bias_initializer': {'class_name': 'Zeros', 'config': {}},\n",
              "    'bias_regularizer': None,\n",
              "    'dtype': 'float32',\n",
              "    'kernel_constraint': None,\n",
              "    'kernel_initializer': {'class_name': 'GlorotUniform',\n",
              "     'config': {'seed': None}},\n",
              "    'kernel_regularizer': None,\n",
              "    'name': 'dense',\n",
              "    'trainable': True,\n",
              "    'units': 256,\n",
              "    'use_bias': True}},\n",
              "  {'class_name': 'Dropout',\n",
              "   'config': {'dtype': 'float32',\n",
              "    'name': 'dropout',\n",
              "    'noise_shape': None,\n",
              "    'rate': 0.2,\n",
              "    'seed': None,\n",
              "    'trainable': True}},\n",
              "  {'class_name': 'Dense',\n",
              "   'config': {'activation': 'softmax',\n",
              "    'activity_regularizer': None,\n",
              "    'bias_constraint': None,\n",
              "    'bias_initializer': {'class_name': 'Zeros', 'config': {}},\n",
              "    'bias_regularizer': None,\n",
              "    'dtype': 'float32',\n",
              "    'kernel_constraint': None,\n",
              "    'kernel_initializer': {'class_name': 'GlorotUniform',\n",
              "     'config': {'seed': None}},\n",
              "    'kernel_regularizer': None,\n",
              "    'name': 'dense_1',\n",
              "    'trainable': True,\n",
              "    'units': 10,\n",
              "    'use_bias': True}}],\n",
              " 'name': 'sequential'}"
            ]
          },
          "metadata": {},
          "execution_count": 45
        }
      ]
    }
  ]
}