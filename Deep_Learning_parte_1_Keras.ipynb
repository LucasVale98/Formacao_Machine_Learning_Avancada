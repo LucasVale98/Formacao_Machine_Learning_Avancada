{
  "nbformat": 4,
  "nbformat_minor": 0,
  "metadata": {
    "colab": {
      "name": "Deep_Learning_parte_1_Keras.ipynb",
      "provenance": [],
      "collapsed_sections": [],
      "toc_visible": true,
      "include_colab_link": true
    },
    "kernelspec": {
      "name": "python3",
      "display_name": "Python 3"
    },
    "language_info": {
      "name": "python"
    }
  },
  "cells": [
    {
      "cell_type": "markdown",
      "metadata": {
        "id": "view-in-github",
        "colab_type": "text"
      },
      "source": [
        "<a href=\"https://colab.research.google.com/github/LucasVale98/Formacao_Machine_Learning_Avancada/blob/main/Deep_Learning_parte_1_Keras.ipynb\" target=\"_parent\"><img src=\"https://colab.research.google.com/assets/colab-badge.svg\" alt=\"Open In Colab\"/></a>"
      ]
    },
    {
      "cell_type": "markdown",
      "source": [
        "# **01 Conhecendo o conjunto de dados**"
      ],
      "metadata": {
        "id": "oNOL1Mhb7TYD"
      }
    },
    {
      "cell_type": "markdown",
      "source": [
        "## **Carregando o dataset**"
      ],
      "metadata": {
        "id": "vU3Hvk-X8C1b"
      }
    },
    {
      "cell_type": "code",
      "source": [
        "import pandas as pd\n",
        "import numpy as np\n",
        "import matplotlib.pyplot as plt\n",
        "\n",
        "import tensorflow\n",
        "from tensorflow import keras\n",
        "from tensorflow.keras.models import load_model"
      ],
      "metadata": {
        "id": "jJYFUDCe8Cy0"
      },
      "execution_count": null,
      "outputs": []
    },
    {
      "cell_type": "markdown",
      "source": [
        "**O dataset Fashion-MNIST**\n",
        "\n",
        "Se você está iniciando os estudos em Deep Learning (ou Machine Learning) e der uma olhada por aí, vai perceber que algumas pessoas, posts e blogs podem recomendar o uso de um dataset chamado MNIST.\n",
        "\n",
        "O MNIST (site em inglês) é um conjunto de imagens de números escritos à mão, e o seu nome significa literalmente que é um dataset Modificado do Instituto Nacional de Padrões e Tecnologia (em inglês Modified National Institute of Standards and Technology database). E por que modificado? Porque já havia um dataset chamado NIST (do Instituto Nacional de Padrões e Tecnologia) que tinha sido formado por imagens de números escritos à mão coletados de um escritório norte americano responsável pelo censo e também de estudantes do colegial.\n",
        "\n"
      ],
      "metadata": {
        "id": "GSuQobC2AFMQ"
      }
    },
    {
      "cell_type": "markdown",
      "source": [
        "https://github.com/zalandoresearch/fashion-mnist"
      ],
      "metadata": {
        "id": "rlxgklTVGQPX"
      }
    },
    {
      "cell_type": "code",
      "source": [
        "dataset = keras.datasets.fashion_mnist\n",
        "dataset.load_data()"
      ],
      "metadata": {
        "colab": {
          "base_uri": "https://localhost:8080/"
        },
        "id": "HTlopT358CwO",
        "outputId": "2cbd997c-8787-425a-92ca-8fae8b7dbf39"
      },
      "execution_count": null,
      "outputs": [
        {
          "output_type": "execute_result",
          "data": {
            "text/plain": [
              "((array([[[0, 0, 0, ..., 0, 0, 0],\n",
              "          [0, 0, 0, ..., 0, 0, 0],\n",
              "          [0, 0, 0, ..., 0, 0, 0],\n",
              "          ...,\n",
              "          [0, 0, 0, ..., 0, 0, 0],\n",
              "          [0, 0, 0, ..., 0, 0, 0],\n",
              "          [0, 0, 0, ..., 0, 0, 0]],\n",
              "  \n",
              "         [[0, 0, 0, ..., 0, 0, 0],\n",
              "          [0, 0, 0, ..., 0, 0, 0],\n",
              "          [0, 0, 0, ..., 0, 0, 0],\n",
              "          ...,\n",
              "          [0, 0, 0, ..., 0, 0, 0],\n",
              "          [0, 0, 0, ..., 0, 0, 0],\n",
              "          [0, 0, 0, ..., 0, 0, 0]],\n",
              "  \n",
              "         [[0, 0, 0, ..., 0, 0, 0],\n",
              "          [0, 0, 0, ..., 0, 0, 0],\n",
              "          [0, 0, 0, ..., 0, 0, 0],\n",
              "          ...,\n",
              "          [0, 0, 0, ..., 0, 0, 0],\n",
              "          [0, 0, 0, ..., 0, 0, 0],\n",
              "          [0, 0, 0, ..., 0, 0, 0]],\n",
              "  \n",
              "         ...,\n",
              "  \n",
              "         [[0, 0, 0, ..., 0, 0, 0],\n",
              "          [0, 0, 0, ..., 0, 0, 0],\n",
              "          [0, 0, 0, ..., 0, 0, 0],\n",
              "          ...,\n",
              "          [0, 0, 0, ..., 0, 0, 0],\n",
              "          [0, 0, 0, ..., 0, 0, 0],\n",
              "          [0, 0, 0, ..., 0, 0, 0]],\n",
              "  \n",
              "         [[0, 0, 0, ..., 0, 0, 0],\n",
              "          [0, 0, 0, ..., 0, 0, 0],\n",
              "          [0, 0, 0, ..., 0, 0, 0],\n",
              "          ...,\n",
              "          [0, 0, 0, ..., 0, 0, 0],\n",
              "          [0, 0, 0, ..., 0, 0, 0],\n",
              "          [0, 0, 0, ..., 0, 0, 0]],\n",
              "  \n",
              "         [[0, 0, 0, ..., 0, 0, 0],\n",
              "          [0, 0, 0, ..., 0, 0, 0],\n",
              "          [0, 0, 0, ..., 0, 0, 0],\n",
              "          ...,\n",
              "          [0, 0, 0, ..., 0, 0, 0],\n",
              "          [0, 0, 0, ..., 0, 0, 0],\n",
              "          [0, 0, 0, ..., 0, 0, 0]]], dtype=uint8),\n",
              "  array([9, 0, 0, ..., 3, 0, 5], dtype=uint8)),\n",
              " (array([[[0, 0, 0, ..., 0, 0, 0],\n",
              "          [0, 0, 0, ..., 0, 0, 0],\n",
              "          [0, 0, 0, ..., 0, 0, 0],\n",
              "          ...,\n",
              "          [0, 0, 0, ..., 0, 0, 0],\n",
              "          [0, 0, 0, ..., 0, 0, 0],\n",
              "          [0, 0, 0, ..., 0, 0, 0]],\n",
              "  \n",
              "         [[0, 0, 0, ..., 0, 0, 0],\n",
              "          [0, 0, 0, ..., 0, 0, 0],\n",
              "          [0, 0, 0, ..., 0, 0, 0],\n",
              "          ...,\n",
              "          [0, 0, 0, ..., 0, 0, 0],\n",
              "          [0, 0, 0, ..., 0, 0, 0],\n",
              "          [0, 0, 0, ..., 0, 0, 0]],\n",
              "  \n",
              "         [[0, 0, 0, ..., 0, 0, 0],\n",
              "          [0, 0, 0, ..., 0, 0, 0],\n",
              "          [0, 0, 0, ..., 0, 0, 0],\n",
              "          ...,\n",
              "          [0, 0, 0, ..., 0, 0, 0],\n",
              "          [0, 0, 0, ..., 0, 0, 0],\n",
              "          [0, 0, 0, ..., 0, 0, 0]],\n",
              "  \n",
              "         ...,\n",
              "  \n",
              "         [[0, 0, 0, ..., 0, 0, 0],\n",
              "          [0, 0, 0, ..., 0, 0, 0],\n",
              "          [0, 0, 0, ..., 0, 0, 0],\n",
              "          ...,\n",
              "          [0, 0, 0, ..., 0, 0, 0],\n",
              "          [0, 0, 0, ..., 0, 0, 0],\n",
              "          [0, 0, 0, ..., 0, 0, 0]],\n",
              "  \n",
              "         [[0, 0, 0, ..., 0, 0, 0],\n",
              "          [0, 0, 0, ..., 0, 0, 0],\n",
              "          [0, 0, 0, ..., 0, 0, 0],\n",
              "          ...,\n",
              "          [0, 0, 0, ..., 0, 0, 0],\n",
              "          [0, 0, 0, ..., 0, 0, 0],\n",
              "          [0, 0, 0, ..., 0, 0, 0]],\n",
              "  \n",
              "         [[0, 0, 0, ..., 0, 0, 0],\n",
              "          [0, 0, 0, ..., 0, 0, 0],\n",
              "          [0, 0, 0, ..., 0, 0, 0],\n",
              "          ...,\n",
              "          [0, 0, 0, ..., 0, 0, 0],\n",
              "          [0, 0, 0, ..., 0, 0, 0],\n",
              "          [0, 0, 0, ..., 0, 0, 0]]], dtype=uint8),\n",
              "  array([9, 2, 1, ..., 8, 1, 5], dtype=uint8)))"
            ]
          },
          "metadata": {},
          "execution_count": 65
        }
      ]
    },
    {
      "cell_type": "code",
      "source": [
        "((imagens_treino, identificacoes_treino), (imagens_teste, identificacoes_teste))  = dataset.load_data()"
      ],
      "metadata": {
        "id": "aLmpxcay8CtK"
      },
      "execution_count": null,
      "outputs": []
    },
    {
      "cell_type": "code",
      "source": [
        "imagens_treino"
      ],
      "metadata": {
        "colab": {
          "base_uri": "https://localhost:8080/"
        },
        "id": "HNy5u4108Cqj",
        "outputId": "8b1c10df-25d9-4afe-ebe0-780ae81def45"
      },
      "execution_count": null,
      "outputs": [
        {
          "output_type": "execute_result",
          "data": {
            "text/plain": [
              "array([[[0, 0, 0, ..., 0, 0, 0],\n",
              "        [0, 0, 0, ..., 0, 0, 0],\n",
              "        [0, 0, 0, ..., 0, 0, 0],\n",
              "        ...,\n",
              "        [0, 0, 0, ..., 0, 0, 0],\n",
              "        [0, 0, 0, ..., 0, 0, 0],\n",
              "        [0, 0, 0, ..., 0, 0, 0]],\n",
              "\n",
              "       [[0, 0, 0, ..., 0, 0, 0],\n",
              "        [0, 0, 0, ..., 0, 0, 0],\n",
              "        [0, 0, 0, ..., 0, 0, 0],\n",
              "        ...,\n",
              "        [0, 0, 0, ..., 0, 0, 0],\n",
              "        [0, 0, 0, ..., 0, 0, 0],\n",
              "        [0, 0, 0, ..., 0, 0, 0]],\n",
              "\n",
              "       [[0, 0, 0, ..., 0, 0, 0],\n",
              "        [0, 0, 0, ..., 0, 0, 0],\n",
              "        [0, 0, 0, ..., 0, 0, 0],\n",
              "        ...,\n",
              "        [0, 0, 0, ..., 0, 0, 0],\n",
              "        [0, 0, 0, ..., 0, 0, 0],\n",
              "        [0, 0, 0, ..., 0, 0, 0]],\n",
              "\n",
              "       ...,\n",
              "\n",
              "       [[0, 0, 0, ..., 0, 0, 0],\n",
              "        [0, 0, 0, ..., 0, 0, 0],\n",
              "        [0, 0, 0, ..., 0, 0, 0],\n",
              "        ...,\n",
              "        [0, 0, 0, ..., 0, 0, 0],\n",
              "        [0, 0, 0, ..., 0, 0, 0],\n",
              "        [0, 0, 0, ..., 0, 0, 0]],\n",
              "\n",
              "       [[0, 0, 0, ..., 0, 0, 0],\n",
              "        [0, 0, 0, ..., 0, 0, 0],\n",
              "        [0, 0, 0, ..., 0, 0, 0],\n",
              "        ...,\n",
              "        [0, 0, 0, ..., 0, 0, 0],\n",
              "        [0, 0, 0, ..., 0, 0, 0],\n",
              "        [0, 0, 0, ..., 0, 0, 0]],\n",
              "\n",
              "       [[0, 0, 0, ..., 0, 0, 0],\n",
              "        [0, 0, 0, ..., 0, 0, 0],\n",
              "        [0, 0, 0, ..., 0, 0, 0],\n",
              "        ...,\n",
              "        [0, 0, 0, ..., 0, 0, 0],\n",
              "        [0, 0, 0, ..., 0, 0, 0],\n",
              "        [0, 0, 0, ..., 0, 0, 0]]], dtype=uint8)"
            ]
          },
          "metadata": {},
          "execution_count": 67
        }
      ]
    },
    {
      "cell_type": "code",
      "source": [
        "identificacoes_treino"
      ],
      "metadata": {
        "colab": {
          "base_uri": "https://localhost:8080/"
        },
        "id": "3RDjMfry8Cnr",
        "outputId": "598d4b98-e112-4e28-d8e7-9321685dfc45"
      },
      "execution_count": null,
      "outputs": [
        {
          "output_type": "execute_result",
          "data": {
            "text/plain": [
              "array([9, 0, 0, ..., 3, 0, 5], dtype=uint8)"
            ]
          },
          "metadata": {},
          "execution_count": 68
        }
      ]
    },
    {
      "cell_type": "markdown",
      "source": [
        "## **Entendendo as imagens**"
      ],
      "metadata": {
        "id": "yirDKoPE8Ck2"
      }
    },
    {
      "cell_type": "code",
      "source": [
        "len(imagens_treino)"
      ],
      "metadata": {
        "colab": {
          "base_uri": "https://localhost:8080/"
        },
        "id": "eX4yR3y68CiH",
        "outputId": "b2b4ce67-0f9f-47b2-f612-0f86bc4c8c32"
      },
      "execution_count": null,
      "outputs": [
        {
          "output_type": "execute_result",
          "data": {
            "text/plain": [
              "60000"
            ]
          },
          "metadata": {},
          "execution_count": 69
        }
      ]
    },
    {
      "cell_type": "code",
      "source": [
        "imagens_treino.shape"
      ],
      "metadata": {
        "colab": {
          "base_uri": "https://localhost:8080/"
        },
        "id": "O_jweJdI8CfU",
        "outputId": "5fdd8465-861e-4b73-d10a-ae98c4f7215d"
      },
      "execution_count": null,
      "outputs": [
        {
          "output_type": "execute_result",
          "data": {
            "text/plain": [
              "(60000, 28, 28)"
            ]
          },
          "metadata": {},
          "execution_count": 70
        }
      ]
    },
    {
      "cell_type": "code",
      "source": [
        "len(imagens_teste)"
      ],
      "metadata": {
        "colab": {
          "base_uri": "https://localhost:8080/"
        },
        "id": "laZZFW3yAuwZ",
        "outputId": "12d2783c-788e-4875-fca2-66bdd53c52d6"
      },
      "execution_count": null,
      "outputs": [
        {
          "output_type": "execute_result",
          "data": {
            "text/plain": [
              "10000"
            ]
          },
          "metadata": {},
          "execution_count": 71
        }
      ]
    },
    {
      "cell_type": "code",
      "source": [
        "imagens_teste.shape"
      ],
      "metadata": {
        "colab": {
          "base_uri": "https://localhost:8080/"
        },
        "id": "uNy8uVyI8Ccd",
        "outputId": "d368541b-2566-46c9-f86e-e0da3f8eb804"
      },
      "execution_count": null,
      "outputs": [
        {
          "output_type": "execute_result",
          "data": {
            "text/plain": [
              "(10000, 28, 28)"
            ]
          },
          "metadata": {},
          "execution_count": 72
        }
      ]
    },
    {
      "cell_type": "code",
      "source": [
        "len(identificacoes_treino)"
      ],
      "metadata": {
        "colab": {
          "base_uri": "https://localhost:8080/"
        },
        "id": "pBMpdzch8CZq",
        "outputId": "fd1e06a7-e59e-4e9b-aa33-853bd9253c13"
      },
      "execution_count": null,
      "outputs": [
        {
          "output_type": "execute_result",
          "data": {
            "text/plain": [
              "60000"
            ]
          },
          "metadata": {},
          "execution_count": 73
        }
      ]
    },
    {
      "cell_type": "code",
      "source": [
        "len(identificacoes_teste)"
      ],
      "metadata": {
        "colab": {
          "base_uri": "https://localhost:8080/"
        },
        "id": "fg1hb1wH8CWy",
        "outputId": "17a468d9-f67e-456d-beb1-59cf65240a0a"
      },
      "execution_count": null,
      "outputs": [
        {
          "output_type": "execute_result",
          "data": {
            "text/plain": [
              "10000"
            ]
          },
          "metadata": {},
          "execution_count": 74
        }
      ]
    },
    {
      "cell_type": "code",
      "source": [
        "plt.imshow(imagens_treino[0])"
      ],
      "metadata": {
        "colab": {
          "base_uri": "https://localhost:8080/",
          "height": 283
        },
        "id": "qbbwfmpJ8CUL",
        "outputId": "d976698d-d36d-4e64-ab46-be9beb777fb7"
      },
      "execution_count": null,
      "outputs": [
        {
          "output_type": "execute_result",
          "data": {
            "text/plain": [
              "<matplotlib.image.AxesImage at 0x7fc8a7f79450>"
            ]
          },
          "metadata": {},
          "execution_count": 75
        },
        {
          "output_type": "display_data",
          "data": {
            "text/plain": [
              "<Figure size 432x288 with 1 Axes>"
            ],
            "image/png": "[encoded data removed]"
          },
          "metadata": {
            "needs_background": "light"
          }
        }
      ]
    },
    {
      "cell_type": "markdown",
      "source": [
        "# **02 Começando a montar o modelo**"
      ],
      "metadata": {
        "id": "NWn69jAgDAOk"
      }
    },
    {
      "cell_type": "markdown",
      "source": [
        "## **Exibindo as categorias**"
      ],
      "metadata": {
        "id": "0z3BhHBsDv4z"
      }
    },
    {
      "cell_type": "code",
      "source": [
        "plt.imshow(imagens_treino[0])\n",
        "plt.title(identificacoes_treino[0])"
      ],
      "metadata": {
        "colab": {
          "base_uri": "https://localhost:8080/",
          "height": 299
        },
        "id": "_JTkXKvG8CRZ",
        "outputId": "7e64f11e-2166-431a-9d70-e162ed4fe193"
      },
      "execution_count": null,
      "outputs": [
        {
          "output_type": "execute_result",
          "data": {
            "text/plain": [
              "Text(0.5, 1.0, '9')"
            ]
          },
          "metadata": {},
          "execution_count": 76
        },
        {
          "output_type": "display_data",
          "data": {
            "text/plain": [
              "<Figure size 432x288 with 1 Axes>"
            ],
            "image/png": "[encoded data removed]"
          },
          "metadata": {
            "needs_background": "light"
          }
        }
      ]
    },
    {
      "cell_type": "code",
      "source": [
        "for imagem in range(10):\n",
        "  plt.subplot(2,5, imagem+1)\n",
        "  plt.imshow(imagens_treino[imagem])\n",
        "  plt.title(identificacoes_treino[imagem])"
      ],
      "metadata": {
        "colab": {
          "base_uri": "https://localhost:8080/",
          "height": 240
        },
        "id": "d7FAGMoPBn0j",
        "outputId": "9cfc3351-494a-4e30-cbba-bedbf1d73bb2"
      },
      "execution_count": null,
      "outputs": [
        {
          "output_type": "display_data",
          "data": {
            "text/plain": [
              "<Figure size 432x288 with 10 Axes>"
            ],
            "image/png": "[encoded data removed]"
          },
          "metadata": {
            "needs_background": "light"
          }
        }
      ]
    },
    {
      "cell_type": "code",
      "source": [
        "total_de_classificacoes = 10\n",
        "nomes_de_classificacoes = ['Camiseta', 'Calça', 'Pullover', \n",
        "                           'Vestido', 'Casaco', 'Sandália', 'Camisa',\n",
        "                           'Tênis', 'Bolsa', 'Bota']"
      ],
      "metadata": {
        "id": "XH6XE7wVBnxk"
      },
      "execution_count": null,
      "outputs": []
    },
    {
      "cell_type": "code",
      "source": [
        "for imagem in range(10):\n",
        "  plt.subplot(2,5, imagem+1)\n",
        "  plt.imshow(imagens_treino[imagem])\n",
        "  plt.title(nomes_de_classificacoes[identificacoes_treino[imagem]])"
      ],
      "metadata": {
        "colab": {
          "base_uri": "https://localhost:8080/",
          "height": 240
        },
        "id": "2ANEPuCoBnvW",
        "outputId": "af01fb78-a36c-46a6-f91e-f8bff61b8d0e"
      },
      "execution_count": null,
      "outputs": [
        {
          "output_type": "display_data",
          "data": {
            "text/plain": [
              "<Figure size 432x288 with 10 Axes>"
            ],
            "image/png": "[encoded data removed]"
          },
          "metadata": {
            "needs_background": "light"
          }
        }
      ]
    },
    {
      "cell_type": "markdown",
      "source": [
        "## **Criando a camada 0**"
      ],
      "metadata": {
        "id": "RxkriWI_IEE2"
      }
    },
    {
      "cell_type": "code",
      "source": [
        "modelo = keras.Sequential([\n",
        "  keras.layers.Flatten(input_shape=(28,28))\n",
        "])"
      ],
      "metadata": {
        "id": "7jftl85rHedI"
      },
      "execution_count": null,
      "outputs": []
    },
    {
      "cell_type": "markdown",
      "source": [
        "# **03 Adicionando camadas ocultas**"
      ],
      "metadata": {
        "id": "C0wGBMlaHeaw"
      }
    },
    {
      "cell_type": "markdown",
      "source": [
        "## **Criando a camada 1**"
      ],
      "metadata": {
        "id": "VmOR5rkVHeYC"
      }
    },
    {
      "cell_type": "code",
      "source": [
        "modelo = keras.Sequential([\n",
        "  keras.layers.Flatten(input_shape=(28,28)),\n",
        "  keras.layers.Dense(256, activation= tensorflow.nn.relu)\n",
        "])"
      ],
      "metadata": {
        "id": "XTOHUvTWBnpb"
      },
      "execution_count": null,
      "outputs": []
    },
    {
      "cell_type": "markdown",
      "source": [
        "## **Relu e não linearidade**"
      ],
      "metadata": {
        "id": "iVHNKhMZPCWd"
      }
    },
    {
      "cell_type": "code",
      "source": [
        "modelo = keras.Sequential([\n",
        "  keras.layers.Flatten(input_shape=(28,28)),\n",
        "  keras.layers.Dense(256, activation = tensorflow.nn.relu),\n",
        "  keras.layers.Dense(10, activation = tensorflow.nn.softmax)\n",
        "])"
      ],
      "metadata": {
        "id": "gTRGAyN5Bnl5"
      },
      "execution_count": null,
      "outputs": []
    },
    {
      "cell_type": "markdown",
      "source": [
        "# **04 Ensinando o modelo**"
      ],
      "metadata": {
        "id": "dcbVEeOcQ8LO"
      }
    },
    {
      "cell_type": "markdown",
      "source": [
        "## **Argumentos do compile e treino do modelo**"
      ],
      "metadata": {
        "id": "F1MJHcSvQ-VX"
      }
    },
    {
      "cell_type": "code",
      "source": [
        "modelo.compile(optimizer='adam', loss='sparse_categorical_crossentropy')"
      ],
      "metadata": {
        "id": "kizC4bDHQp7b"
      },
      "execution_count": null,
      "outputs": []
    },
    {
      "cell_type": "code",
      "source": [
        "modelo.fit(imagens_treino, identificacoes_treino)"
      ],
      "metadata": {
        "colab": {
          "base_uri": "https://localhost:8080/"
        },
        "id": "_go7-reVBnjG",
        "outputId": "2fdcea37-611b-466e-b516-a15a9bae9791"
      },
      "execution_count": null,
      "outputs": [
        {
          "output_type": "stream",
          "name": "stdout",
          "text": [
            "1875/1875 [==============================] - 6s 3ms/step - loss: 3.5543\n"
          ]
        },
        {
          "output_type": "execute_result",
          "data": {
            "text/plain": [
              "<keras.callbacks.History at 0x7fc8a3293610>"
            ]
          },
          "metadata": {},
          "execution_count": 84
        }
      ]
    },
    {
      "cell_type": "markdown",
      "source": [
        "## **Escala de cinza e normalização**"
      ],
      "metadata": {
        "id": "1G5RFEeTBnf1"
      }
    },
    {
      "cell_type": "code",
      "source": [
        "for imagem in range(10):\n",
        "  plt.subplot(2,5, imagem+1)\n",
        "  plt.imshow(imagens_treino[imagem])\n",
        "  plt.title(nomes_de_classificacoes[identificacoes_treino[imagem]])"
      ],
      "metadata": {
        "colab": {
          "base_uri": "https://localhost:8080/",
          "height": 240
        },
        "id": "W6JEbUcRPFYl",
        "outputId": "4f445f14-6d04-4761-fd7f-84914fa1ef1e"
      },
      "execution_count": null,
      "outputs": [
        {
          "output_type": "display_data",
          "data": {
            "text/plain": [
              "<Figure size 432x288 with 10 Axes>"
            ],
            "image/png": "[encoded data removed]"
          },
          "metadata": {
            "needs_background": "light"
          }
        }
      ]
    },
    {
      "cell_type": "code",
      "source": [
        "plt.imshow(imagens_treino[0])\n",
        "plt.colorbar()"
      ],
      "metadata": {
        "colab": {
          "base_uri": "https://localhost:8080/",
          "height": 283
        },
        "id": "OAkDFArATVua",
        "outputId": "36005665-af0e-4824-8ac4-499755fed2d0"
      },
      "execution_count": null,
      "outputs": [
        {
          "output_type": "execute_result",
          "data": {
            "text/plain": [
              "<matplotlib.colorbar.Colorbar at 0x7fc8a83f4790>"
            ]
          },
          "metadata": {},
          "execution_count": 86
        },
        {
          "output_type": "display_data",
          "data": {
            "text/plain": [
              "<Figure size 432x288 with 2 Axes>"
            ],
            "image/png": "[encoded data removed]"
          },
          "metadata": {
            "needs_background": "light"
          }
        }
      ]
    },
    {
      "cell_type": "code",
      "source": [
        "#Normalização\n",
        "imagens_treino = imagens_treino/float(255)"
      ],
      "metadata": {
        "id": "bWucg1gSUgHS"
      },
      "execution_count": null,
      "outputs": []
    },
    {
      "cell_type": "code",
      "source": [
        "modelo = keras.Sequential([\n",
        "  keras.layers.Flatten(input_shape=(28,28)),\n",
        "  keras.layers.Dense(256, activation = tensorflow.nn.relu),\n",
        "  keras.layers.Dense(10, activation = tensorflow.nn.softmax)\n",
        "])"
      ],
      "metadata": {
        "id": "feG9H4O3BnVz"
      },
      "execution_count": null,
      "outputs": []
    },
    {
      "cell_type": "code",
      "source": [
        "modelo.compile(optimizer='adam', loss='sparse_categorical_crossentropy')\n",
        "modelo.fit(imagens_treino, identificacoes_treino)"
      ],
      "metadata": {
        "colab": {
          "base_uri": "https://localhost:8080/"
        },
        "id": "wWAfOG-QPFbN",
        "outputId": "0b7a415a-cfb0-4d00-ee73-348b316e1a51"
      },
      "execution_count": null,
      "outputs": [
        {
          "output_type": "stream",
          "name": "stdout",
          "text": [
            "1875/1875 [==============================] - 6s 3ms/step - loss: 0.4842\n"
          ]
        },
        {
          "output_type": "execute_result",
          "data": {
            "text/plain": [
              "<keras.callbacks.History at 0x7fc8a82c7bd0>"
            ]
          },
          "metadata": {},
          "execution_count": 89
        }
      ]
    },
    {
      "cell_type": "markdown",
      "source": [
        "O loss passou de; loss: 3.9311 para loss: 0.4814 "
      ],
      "metadata": {
        "id": "SQHK9KJJVH3t"
      }
    },
    {
      "cell_type": "markdown",
      "source": [
        "\n",
        "## **Definindo número de camadas**"
      ],
      "metadata": {
        "id": "JT5ZOXtgV_tQ"
      }
    },
    {
      "cell_type": "code",
      "source": [
        "modelo = keras.Sequential([\n",
        "  keras.layers.Flatten(input_shape=(28,28)),\n",
        "  keras.layers.Dense(256, activation = tensorflow.nn.relu),\n",
        "  keras.layers.Dense(128, activation = tensorflow.nn.relu),\n",
        "  keras.layers.Dense(10, activation = tensorflow.nn.softmax)\n",
        "])"
      ],
      "metadata": {
        "id": "EAs_1zaxPFV_"
      },
      "execution_count": null,
      "outputs": []
    },
    {
      "cell_type": "code",
      "source": [
        "modelo.compile(optimizer='adam', loss='sparse_categorical_crossentropy')\n",
        "modelo.fit(imagens_treino, identificacoes_treino)"
      ],
      "metadata": {
        "colab": {
          "base_uri": "https://localhost:8080/"
        },
        "id": "M_UIMuf2PFTB",
        "outputId": "0074b9f7-f6b1-4fe6-a7c5-e68e7017f43c"
      },
      "execution_count": null,
      "outputs": [
        {
          "output_type": "stream",
          "name": "stdout",
          "text": [
            "1875/1875 [==============================] - 7s 4ms/step - loss: 0.4759\n"
          ]
        },
        {
          "output_type": "execute_result",
          "data": {
            "text/plain": [
              "<keras.callbacks.History at 0x7fc8a6e1c390>"
            ]
          },
          "metadata": {},
          "execution_count": 91
        }
      ]
    },
    {
      "cell_type": "code",
      "source": [
        "modelo = keras.Sequential([\n",
        "  keras.layers.Flatten(input_shape=(28,28)),\n",
        "  keras.layers.Dense(256, activation = tensorflow.nn.relu),\n",
        "  keras.layers.Dense(128, activation = tensorflow.nn.relu),\n",
        "  keras.layers.Dense(64, activation = tensorflow.nn.relu),\n",
        "  keras.layers.Dense(10, activation = tensorflow.nn.softmax)\n",
        "])"
      ],
      "metadata": {
        "id": "wir0InZDPFRM"
      },
      "execution_count": null,
      "outputs": []
    },
    {
      "cell_type": "code",
      "source": [
        "modelo.compile(optimizer='adam', loss='sparse_categorical_crossentropy')\n",
        "modelo.fit(imagens_treino, identificacoes_treino)"
      ],
      "metadata": {
        "colab": {
          "base_uri": "https://localhost:8080/"
        },
        "id": "14CwwxclPFN5",
        "outputId": "b0af730c-04e1-4fb5-f66d-b4cadfdda782"
      },
      "execution_count": null,
      "outputs": [
        {
          "output_type": "stream",
          "name": "stdout",
          "text": [
            "1875/1875 [==============================] - 8s 4ms/step - loss: 0.4863\n"
          ]
        },
        {
          "output_type": "execute_result",
          "data": {
            "text/plain": [
              "<keras.callbacks.History at 0x7fc8ad46aa10>"
            ]
          },
          "metadata": {},
          "execution_count": 93
        }
      ]
    },
    {
      "cell_type": "markdown",
      "source": [
        "# **05 Sabendo como medir o resultado do modelo**"
      ],
      "metadata": {
        "id": "UrOkx9VeX3cY"
      }
    },
    {
      "cell_type": "markdown",
      "source": [
        "## **Runtime e acurácia de treino**"
      ],
      "metadata": {
        "id": "59Y2-ng4YERp"
      }
    },
    {
      "cell_type": "code",
      "source": [
        "dataset = keras.datasets.fashion_mnist\n",
        "dataset.load_data()"
      ],
      "metadata": {
        "colab": {
          "base_uri": "https://localhost:8080/"
        },
        "id": "-flQpWWZYvS0",
        "outputId": "8c98b0cf-5f49-45ca-adda-2c0256bd6ab2"
      },
      "execution_count": null,
      "outputs": [
        {
          "output_type": "execute_result",
          "data": {
            "text/plain": [
              "((array([[[0, 0, 0, ..., 0, 0, 0],\n",
              "          [0, 0, 0, ..., 0, 0, 0],\n",
              "          [0, 0, 0, ..., 0, 0, 0],\n",
              "          ...,\n",
              "          [0, 0, 0, ..., 0, 0, 0],\n",
              "          [0, 0, 0, ..., 0, 0, 0],\n",
              "          [0, 0, 0, ..., 0, 0, 0]],\n",
              "  \n",
              "         [[0, 0, 0, ..., 0, 0, 0],\n",
              "          [0, 0, 0, ..., 0, 0, 0],\n",
              "          [0, 0, 0, ..., 0, 0, 0],\n",
              "          ...,\n",
              "          [0, 0, 0, ..., 0, 0, 0],\n",
              "          [0, 0, 0, ..., 0, 0, 0],\n",
              "          [0, 0, 0, ..., 0, 0, 0]],\n",
              "  \n",
              "         [[0, 0, 0, ..., 0, 0, 0],\n",
              "          [0, 0, 0, ..., 0, 0, 0],\n",
              "          [0, 0, 0, ..., 0, 0, 0],\n",
              "          ...,\n",
              "          [0, 0, 0, ..., 0, 0, 0],\n",
              "          [0, 0, 0, ..., 0, 0, 0],\n",
              "          [0, 0, 0, ..., 0, 0, 0]],\n",
              "  \n",
              "         ...,\n",
              "  \n",
              "         [[0, 0, 0, ..., 0, 0, 0],\n",
              "          [0, 0, 0, ..., 0, 0, 0],\n",
              "          [0, 0, 0, ..., 0, 0, 0],\n",
              "          ...,\n",
              "          [0, 0, 0, ..., 0, 0, 0],\n",
              "          [0, 0, 0, ..., 0, 0, 0],\n",
              "          [0, 0, 0, ..., 0, 0, 0]],\n",
              "  \n",
              "         [[0, 0, 0, ..., 0, 0, 0],\n",
              "          [0, 0, 0, ..., 0, 0, 0],\n",
              "          [0, 0, 0, ..., 0, 0, 0],\n",
              "          ...,\n",
              "          [0, 0, 0, ..., 0, 0, 0],\n",
              "          [0, 0, 0, ..., 0, 0, 0],\n",
              "          [0, 0, 0, ..., 0, 0, 0]],\n",
              "  \n",
              "         [[0, 0, 0, ..., 0, 0, 0],\n",
              "          [0, 0, 0, ..., 0, 0, 0],\n",
              "          [0, 0, 0, ..., 0, 0, 0],\n",
              "          ...,\n",
              "          [0, 0, 0, ..., 0, 0, 0],\n",
              "          [0, 0, 0, ..., 0, 0, 0],\n",
              "          [0, 0, 0, ..., 0, 0, 0]]], dtype=uint8),\n",
              "  array([9, 0, 0, ..., 3, 0, 5], dtype=uint8)),\n",
              " (array([[[0, 0, 0, ..., 0, 0, 0],\n",
              "          [0, 0, 0, ..., 0, 0, 0],\n",
              "          [0, 0, 0, ..., 0, 0, 0],\n",
              "          ...,\n",
              "          [0, 0, 0, ..., 0, 0, 0],\n",
              "          [0, 0, 0, ..., 0, 0, 0],\n",
              "          [0, 0, 0, ..., 0, 0, 0]],\n",
              "  \n",
              "         [[0, 0, 0, ..., 0, 0, 0],\n",
              "          [0, 0, 0, ..., 0, 0, 0],\n",
              "          [0, 0, 0, ..., 0, 0, 0],\n",
              "          ...,\n",
              "          [0, 0, 0, ..., 0, 0, 0],\n",
              "          [0, 0, 0, ..., 0, 0, 0],\n",
              "          [0, 0, 0, ..., 0, 0, 0]],\n",
              "  \n",
              "         [[0, 0, 0, ..., 0, 0, 0],\n",
              "          [0, 0, 0, ..., 0, 0, 0],\n",
              "          [0, 0, 0, ..., 0, 0, 0],\n",
              "          ...,\n",
              "          [0, 0, 0, ..., 0, 0, 0],\n",
              "          [0, 0, 0, ..., 0, 0, 0],\n",
              "          [0, 0, 0, ..., 0, 0, 0]],\n",
              "  \n",
              "         ...,\n",
              "  \n",
              "         [[0, 0, 0, ..., 0, 0, 0],\n",
              "          [0, 0, 0, ..., 0, 0, 0],\n",
              "          [0, 0, 0, ..., 0, 0, 0],\n",
              "          ...,\n",
              "          [0, 0, 0, ..., 0, 0, 0],\n",
              "          [0, 0, 0, ..., 0, 0, 0],\n",
              "          [0, 0, 0, ..., 0, 0, 0]],\n",
              "  \n",
              "         [[0, 0, 0, ..., 0, 0, 0],\n",
              "          [0, 0, 0, ..., 0, 0, 0],\n",
              "          [0, 0, 0, ..., 0, 0, 0],\n",
              "          ...,\n",
              "          [0, 0, 0, ..., 0, 0, 0],\n",
              "          [0, 0, 0, ..., 0, 0, 0],\n",
              "          [0, 0, 0, ..., 0, 0, 0]],\n",
              "  \n",
              "         [[0, 0, 0, ..., 0, 0, 0],\n",
              "          [0, 0, 0, ..., 0, 0, 0],\n",
              "          [0, 0, 0, ..., 0, 0, 0],\n",
              "          ...,\n",
              "          [0, 0, 0, ..., 0, 0, 0],\n",
              "          [0, 0, 0, ..., 0, 0, 0],\n",
              "          [0, 0, 0, ..., 0, 0, 0]]], dtype=uint8),\n",
              "  array([9, 2, 1, ..., 8, 1, 5], dtype=uint8)))"
            ]
          },
          "metadata": {},
          "execution_count": 102
        }
      ]
    },
    {
      "cell_type": "code",
      "source": [
        "((imagens_treino, identificacoes_treino), (imagens_teste, identificacoes_teste))  = dataset.load_data()"
      ],
      "metadata": {
        "id": "ysk1cfhEY1td"
      },
      "execution_count": null,
      "outputs": []
    },
    {
      "cell_type": "code",
      "source": [
        "modelo = keras.Sequential([\n",
        "  keras.layers.Flatten(input_shape=(28,28)),\n",
        "  keras.layers.Dense(256, activation = tensorflow.nn.relu),\n",
        "  keras.layers.Dense(10, activation = tensorflow.nn.softmax)\n",
        "])"
      ],
      "metadata": {
        "id": "6wjCSjdDPFLO"
      },
      "execution_count": null,
      "outputs": []
    },
    {
      "cell_type": "code",
      "source": [
        "modelo.compile(optimizer='adam', loss='sparse_categorical_crossentropy')\n",
        "modelo.fit(imagens_treino, identificacoes_treino)"
      ],
      "metadata": {
        "colab": {
          "base_uri": "https://localhost:8080/"
        },
        "id": "2jLtupv4ZbYW",
        "outputId": "6adf46d0-b952-478b-a6d7-f6cf3aff715d"
      },
      "execution_count": null,
      "outputs": [
        {
          "output_type": "stream",
          "name": "stdout",
          "text": [
            "1875/1875 [==============================] - 6s 3ms/step - loss: 3.2696\n"
          ]
        },
        {
          "output_type": "execute_result",
          "data": {
            "text/plain": [
              "<keras.callbacks.History at 0x7fc8a326bd10>"
            ]
          },
          "metadata": {},
          "execution_count": 105
        }
      ]
    },
    {
      "cell_type": "code",
      "source": [
        "modelo.compile(optimizer='adam', loss='sparse_categorical_crossentropy')\n",
        "modelo.fit(imagens_treino, identificacoes_treino, epochs=5)"
      ],
      "metadata": {
        "colab": {
          "base_uri": "https://localhost:8080/"
        },
        "id": "BcZbJQzKPFIS",
        "outputId": "e7481027-4270-447e-b99f-b0811d74f9a6"
      },
      "execution_count": null,
      "outputs": [
        {
          "output_type": "stream",
          "name": "stdout",
          "text": [
            "Epoch 1/5\n",
            "1875/1875 [==============================] - 6s 3ms/step - loss: 0.6346\n",
            "Epoch 2/5\n",
            "1875/1875 [==============================] - 6s 3ms/step - loss: 0.5331\n",
            "Epoch 3/5\n",
            "1875/1875 [==============================] - 6s 3ms/step - loss: 0.4935\n",
            "Epoch 4/5\n",
            "1875/1875 [==============================] - 6s 3ms/step - loss: 0.4803\n",
            "Epoch 5/5\n",
            "1875/1875 [==============================] - 6s 3ms/step - loss: 0.4749\n"
          ]
        },
        {
          "output_type": "execute_result",
          "data": {
            "text/plain": [
              "<keras.callbacks.History at 0x7fc8a81d8ed0>"
            ]
          },
          "metadata": {},
          "execution_count": 106
        }
      ]
    },
    {
      "cell_type": "code",
      "source": [
        "modelo.compile(optimizer='adam', \n",
        "               loss='sparse_categorical_crossentropy',\n",
        "               metrics=['accuracy'])\n",
        "modelo.fit(imagens_treino, identificacoes_treino, epochs=5)"
      ],
      "metadata": {
        "colab": {
          "base_uri": "https://localhost:8080/"
        },
        "id": "tcuxGtl7Ztod",
        "outputId": "fa4e2b82-171b-4c6e-9881-564388ccc5d4"
      },
      "execution_count": null,
      "outputs": [
        {
          "output_type": "stream",
          "name": "stdout",
          "text": [
            "Epoch 1/5\n",
            "1875/1875 [==============================] - 6s 3ms/step - loss: 0.4757 - accuracy: 0.8436\n",
            "Epoch 2/5\n",
            "1875/1875 [==============================] - 6s 3ms/step - loss: 0.4718 - accuracy: 0.8438\n",
            "Epoch 3/5\n",
            "1875/1875 [==============================] - 6s 3ms/step - loss: 0.4608 - accuracy: 0.8447\n",
            "Epoch 4/5\n",
            "1875/1875 [==============================] - 6s 3ms/step - loss: 0.4493 - accuracy: 0.8472\n",
            "Epoch 5/5\n",
            "1875/1875 [==============================] - 6s 3ms/step - loss: 0.4542 - accuracy: 0.8476\n"
          ]
        },
        {
          "output_type": "execute_result",
          "data": {
            "text/plain": [
              "<keras.callbacks.History at 0x7fc8a81e3810>"
            ]
          },
          "metadata": {},
          "execution_count": 107
        }
      ]
    },
    {
      "cell_type": "markdown",
      "source": [
        "## **Testando o modelo**"
      ],
      "metadata": {
        "id": "pUg6QdDaaQjs"
      }
    },
    {
      "cell_type": "code",
      "source": [
        "teste = modelo.predict(imagens_teste)\n",
        "print('Resultado testes:', np.argmax(teste[0]))\n",
        "print('Número de imagem de testes:', identificacoes_teste[0])"
      ],
      "metadata": {
        "colab": {
          "base_uri": "https://localhost:8080/"
        },
        "id": "ILxhlFXoPFFV",
        "outputId": "18a0a531-6416-48f8-ef19-c670c4e7c56b"
      },
      "execution_count": null,
      "outputs": [
        {
          "output_type": "stream",
          "name": "stdout",
          "text": [
            "Resultado testes: 9\n",
            "Número de imagem de testes: 9\n"
          ]
        }
      ]
    },
    {
      "cell_type": "code",
      "source": [
        "print('Resultado testes:', np.argmax(teste[20]))\n",
        "print('Número de imagem de testes:', identificacoes_teste[20])"
      ],
      "metadata": {
        "colab": {
          "base_uri": "https://localhost:8080/"
        },
        "id": "CPJqRJS0PFCm",
        "outputId": "b8028b07-cc40-4b30-82fb-9c9b67b852f6"
      },
      "execution_count": null,
      "outputs": [
        {
          "output_type": "stream",
          "name": "stdout",
          "text": [
            "Resultado testes: 6\n",
            "Número de imagem de testes: 2\n"
          ]
        }
      ]
    },
    {
      "cell_type": "markdown",
      "source": [
        "## **Avaliação e validação do modelo**"
      ],
      "metadata": {
        "id": "huEw1sBRb-6F"
      }
    },
    {
      "cell_type": "code",
      "source": [
        "modelo.compile(optimizer='adam', \n",
        "               loss='sparse_categorical_crossentropy',\n",
        "               metrics=['accuracy'])\n",
        "modelo.fit(imagens_treino, identificacoes_treino, epochs=5, validation_split=0.2)"
      ],
      "metadata": {
        "colab": {
          "base_uri": "https://localhost:8080/"
        },
        "id": "H6-VsM21cBWq",
        "outputId": "669009e3-7aaf-413e-a82b-e66cd991d9a5"
      },
      "execution_count": null,
      "outputs": [
        {
          "output_type": "stream",
          "name": "stdout",
          "text": [
            "Epoch 1/5\n",
            "1500/1500 [==============================] - 6s 4ms/step - loss: 0.4582 - accuracy: 0.8473 - val_loss: 0.4523 - val_accuracy: 0.8500\n",
            "Epoch 2/5\n",
            "1500/1500 [==============================] - 6s 4ms/step - loss: 0.4565 - accuracy: 0.8489 - val_loss: 0.4545 - val_accuracy: 0.8508\n",
            "Epoch 3/5\n",
            "1500/1500 [==============================] - 5s 4ms/step - loss: 0.4415 - accuracy: 0.8525 - val_loss: 0.4491 - val_accuracy: 0.8584\n",
            "Epoch 4/5\n",
            "1500/1500 [==============================] - 5s 4ms/step - loss: 0.4303 - accuracy: 0.8558 - val_loss: 0.4233 - val_accuracy: 0.8551\n",
            "Epoch 5/5\n",
            "1500/1500 [==============================] - 5s 4ms/step - loss: 0.4250 - accuracy: 0.8575 - val_loss: 0.4744 - val_accuracy: 0.8491\n"
          ]
        },
        {
          "output_type": "execute_result",
          "data": {
            "text/plain": [
              "<keras.callbacks.History at 0x7fc89c742bd0>"
            ]
          },
          "metadata": {},
          "execution_count": 122
        }
      ]
    },
    {
      "cell_type": "code",
      "source": [
        "modelo.evaluate(imagens_teste, identificacoes_teste)"
      ],
      "metadata": {
        "colab": {
          "base_uri": "https://localhost:8080/"
        },
        "id": "P_tXajPPPE_-",
        "outputId": "4b219f0e-a7ea-44be-8f2b-c1ec35a19603"
      },
      "execution_count": null,
      "outputs": [
        {
          "output_type": "stream",
          "name": "stdout",
          "text": [
            "313/313 [==============================] - 1s 2ms/step - loss: 0.5370 - accuracy: 0.8355\n"
          ]
        },
        {
          "output_type": "execute_result",
          "data": {
            "text/plain": [
              "[0.5370125770568848, 0.8355000019073486]"
            ]
          },
          "metadata": {},
          "execution_count": 118
        }
      ]
    },
    {
      "cell_type": "code",
      "source": [
        "perda_teste, acuracia_teste = modelo.evaluate(imagens_teste, identificacoes_teste)\n",
        "print('Perda do Teste:', perda_teste)\n",
        "print('Acurácia do Teste:', acuracia_teste)"
      ],
      "metadata": {
        "colab": {
          "base_uri": "https://localhost:8080/"
        },
        "id": "s7L3iL4sPE81",
        "outputId": "b99145e4-78da-41c2-a15e-bdf6a21d7c4e"
      },
      "execution_count": null,
      "outputs": [
        {
          "output_type": "stream",
          "name": "stdout",
          "text": [
            "313/313 [==============================] - 1s 2ms/step - loss: 0.5370 - accuracy: 0.8355\n",
            "Perda do Teste: 0.5370125770568848\n",
            "Acurácia do Teste: 0.8355000019073486\n"
          ]
        }
      ]
    },
    {
      "cell_type": "code",
      "source": [
        "perda_teste, acuracia_teste = modelo.evaluate(imagens_teste, identificacoes_teste)\n",
        "print('Perda do Teste:', perda_teste)\n",
        "print('Acurácia do Teste:', acuracia_teste)"
      ],
      "metadata": {
        "colab": {
          "base_uri": "https://localhost:8080/"
        },
        "id": "tS_ja1CocBUT",
        "outputId": "2de36536-b9d5-40af-c6f7-03893c9a9dce"
      },
      "execution_count": null,
      "outputs": [
        {
          "output_type": "stream",
          "name": "stdout",
          "text": [
            "313/313 [==============================] - 1s 3ms/step - loss: 0.5804 - accuracy: 0.8365\n",
            "Perda do Teste: 0.5804054141044617\n",
            "Acurácia do Teste: 0.8364999890327454\n"
          ]
        }
      ]
    },
    {
      "cell_type": "markdown",
      "source": [
        "# **06 Ajustando e salvando o modelo**"
      ],
      "metadata": {
        "id": "QLQUvS8odllC"
      }
    },
    {
      "cell_type": "markdown",
      "source": [
        "## **Gráfico da acurácia**"
      ],
      "metadata": {
        "id": "L5iJIhVKeAB2"
      }
    },
    {
      "cell_type": "code",
      "source": [
        "modelo.compile(optimizer='adam', \n",
        "               loss='sparse_categorical_crossentropy',\n",
        "               metrics=['accuracy'])\n",
        "historico = modelo.fit(imagens_treino, identificacoes_treino, epochs=5, validation_split=0.2)"
      ],
      "metadata": {
        "colab": {
          "base_uri": "https://localhost:8080/"
        },
        "id": "JsIapy1ZdiA0",
        "outputId": "579b4e07-b3c8-41df-92e3-73364aa5747a"
      },
      "execution_count": null,
      "outputs": [
        {
          "output_type": "stream",
          "name": "stdout",
          "text": [
            "Epoch 1/5\n",
            "1500/1500 [==============================] - 7s 4ms/step - loss: 0.4311 - accuracy: 0.8583 - val_loss: 0.4866 - val_accuracy: 0.8438\n",
            "Epoch 2/5\n",
            "1500/1500 [==============================] - 6s 4ms/step - loss: 0.4269 - accuracy: 0.8575 - val_loss: 0.5010 - val_accuracy: 0.8380\n",
            "Epoch 3/5\n",
            "1500/1500 [==============================] - 6s 4ms/step - loss: 0.4463 - accuracy: 0.8525 - val_loss: 0.5268 - val_accuracy: 0.8361\n",
            "Epoch 4/5\n",
            "1500/1500 [==============================] - 5s 4ms/step - loss: 0.4385 - accuracy: 0.8548 - val_loss: 0.5189 - val_accuracy: 0.8418\n",
            "Epoch 5/5\n",
            "1500/1500 [==============================] - 5s 4ms/step - loss: 0.4413 - accuracy: 0.8531 - val_loss: 0.5052 - val_accuracy: 0.8390\n"
          ]
        }
      ]
    },
    {
      "cell_type": "code",
      "source": [
        "historico"
      ],
      "metadata": {
        "colab": {
          "base_uri": "https://localhost:8080/"
        },
        "id": "YUqN_24rcBOT",
        "outputId": "89dc26fc-7436-4d49-9c41-775fa57324df"
      },
      "execution_count": null,
      "outputs": [
        {
          "output_type": "execute_result",
          "data": {
            "text/plain": [
              "<keras.callbacks.History at 0x7fc8a8019410>"
            ]
          },
          "metadata": {},
          "execution_count": 127
        }
      ]
    },
    {
      "cell_type": "code",
      "source": [
        "historico.history"
      ],
      "metadata": {
        "colab": {
          "base_uri": "https://localhost:8080/"
        },
        "id": "D8dZUp-OcBLx",
        "outputId": "91e97d17-0c53-43dd-b307-e96f9a8cade0"
      },
      "execution_count": null,
      "outputs": [
        {
          "output_type": "execute_result",
          "data": {
            "text/plain": [
              "{'accuracy': [0.8582916855812073,\n",
              "  0.8574583530426025,\n",
              "  0.8524583578109741,\n",
              "  0.8547916412353516,\n",
              "  0.8530625104904175],\n",
              " 'loss': [0.4311414659023285,\n",
              "  0.42687299847602844,\n",
              "  0.4462886154651642,\n",
              "  0.4385108947753906,\n",
              "  0.4412645995616913],\n",
              " 'val_accuracy': [0.84375,\n",
              "  0.8379999995231628,\n",
              "  0.8360833525657654,\n",
              "  0.8417500257492065,\n",
              "  0.8389999866485596],\n",
              " 'val_loss': [0.4866432845592499,\n",
              "  0.500984251499176,\n",
              "  0.5268281698226929,\n",
              "  0.5189051628112793,\n",
              "  0.5052177309989929]}"
            ]
          },
          "metadata": {},
          "execution_count": 131
        }
      ]
    },
    {
      "cell_type": "code",
      "source": [
        "historico.history['accuracy']"
      ],
      "metadata": {
        "colab": {
          "base_uri": "https://localhost:8080/"
        },
        "id": "ST7pheAucBI0",
        "outputId": "091f4fc4-4e00-4af7-a95f-b45408c18b43"
      },
      "execution_count": null,
      "outputs": [
        {
          "output_type": "execute_result",
          "data": {
            "text/plain": [
              "[0.8582916855812073,\n",
              " 0.8574583530426025,\n",
              " 0.8524583578109741,\n",
              " 0.8547916412353516,\n",
              " 0.8530625104904175]"
            ]
          },
          "metadata": {},
          "execution_count": 132
        }
      ]
    },
    {
      "cell_type": "code",
      "source": [
        "plt.plot(historico.history['accuracy'])"
      ],
      "metadata": {
        "colab": {
          "base_uri": "https://localhost:8080/",
          "height": 283
        },
        "id": "eBjr16qicBGh",
        "outputId": "2abe1ccf-0bff-4102-8041-a314e370899b"
      },
      "execution_count": null,
      "outputs": [
        {
          "output_type": "execute_result",
          "data": {
            "text/plain": [
              "[<matplotlib.lines.Line2D at 0x7fc8ad3ac350>]"
            ]
          },
          "metadata": {},
          "execution_count": 133
        },
        {
          "output_type": "display_data",
          "data": {
            "text/plain": [
              "<Figure size 432x288 with 1 Axes>"
            ],
            "image/png": "[encoded data removed]"
          },
          "metadata": {
            "needs_background": "light"
          }
        }
      ]
    },
    {
      "cell_type": "code",
      "source": [
        "plt.plot(historico.history['accuracy'])\n",
        "plt.plot(historico.history['val_accuracy'])\n",
        "plt.title('Acurácia por épocas')\n",
        "plt.xlabel('Épocas')\n",
        "plt.ylabel('Acurácia')\n",
        "\n",
        "plt.legend(['Treino', 'Validação'])"
      ],
      "metadata": {
        "colab": {
          "base_uri": "https://localhost:8080/",
          "height": 315
        },
        "id": "t1Cxfq_ofFwt",
        "outputId": "33052037-65d5-4cde-ffd5-60d6a3160eae"
      },
      "execution_count": null,
      "outputs": [
        {
          "output_type": "execute_result",
          "data": {
            "text/plain": [
              "<matplotlib.legend.Legend at 0x7fc8a87e6790>"
            ]
          },
          "metadata": {},
          "execution_count": 138
        },
        {
          "output_type": "display_data",
          "data": {
            "text/plain": [
              "<Figure size 432x288 with 1 Axes>"
            ],
            "image/png": "[encoded data removed]"
          },
          "metadata": {
            "needs_background": "light"
          }
        }
      ]
    },
    {
      "cell_type": "markdown",
      "source": [
        "## **Under e overfitting**"
      ],
      "metadata": {
        "id": "oSDMaDa7gQXP"
      }
    },
    {
      "cell_type": "code",
      "source": [
        "plt.plot(historico.history['loss'])\n",
        "plt.plot(historico.history['val_loss'])\n",
        "plt.title('Perda por épocas')\n",
        "plt.xlabel('Épocas')\n",
        "plt.ylabel('Perda')\n",
        "\n",
        "plt.legend(['Treino', 'Validação'])"
      ],
      "metadata": {
        "colab": {
          "base_uri": "https://localhost:8080/",
          "height": 315
        },
        "id": "I9qSKvg7fFtw",
        "outputId": "6f5ea3a7-5eff-4535-9fa9-4ee510b9d14f"
      },
      "execution_count": null,
      "outputs": [
        {
          "output_type": "execute_result",
          "data": {
            "text/plain": [
              "<matplotlib.legend.Legend at 0x7fc8af1a4690>"
            ]
          },
          "metadata": {},
          "execution_count": 140
        },
        {
          "output_type": "display_data",
          "data": {
            "text/plain": [
              "<Figure size 432x288 with 1 Axes>"
            ],
            "image/png": "[encoded data removed]"
          },
          "metadata": {
            "needs_background": "light"
          }
        }
      ]
    },
    {
      "cell_type": "code",
      "source": [
        "modelo.compile(optimizer='adam', \n",
        "               loss='sparse_categorical_crossentropy',\n",
        "               metrics=['accuracy'])\n",
        "historico = modelo.fit(imagens_treino, identificacoes_treino, epochs=10, validation_split=0.2)"
      ],
      "metadata": {
        "colab": {
          "base_uri": "https://localhost:8080/"
        },
        "id": "w3ADxyrZgJOy",
        "outputId": "7998c588-1029-4480-c519-f4674d92ca10"
      },
      "execution_count": null,
      "outputs": [
        {
          "output_type": "stream",
          "name": "stdout",
          "text": [
            "Epoch 1/10\n",
            "1500/1500 [==============================] - 6s 4ms/step - loss: 0.4394 - accuracy: 0.8541 - val_loss: 0.6435 - val_accuracy: 0.8346\n",
            "Epoch 2/10\n",
            "1500/1500 [==============================] - 5s 4ms/step - loss: 0.4570 - accuracy: 0.8472 - val_loss: 0.5398 - val_accuracy: 0.8411\n",
            "Epoch 3/10\n",
            "1500/1500 [==============================] - 5s 4ms/step - loss: 0.4578 - accuracy: 0.8515 - val_loss: 0.6585 - val_accuracy: 0.7793\n",
            "Epoch 4/10\n",
            "1500/1500 [==============================] - 5s 4ms/step - loss: 0.5326 - accuracy: 0.7937 - val_loss: 0.5602 - val_accuracy: 0.7924\n",
            "Epoch 5/10\n",
            "1500/1500 [==============================] - 6s 4ms/step - loss: 0.4480 - accuracy: 0.8478 - val_loss: 0.5165 - val_accuracy: 0.8447\n",
            "Epoch 6/10\n",
            "1500/1500 [==============================] - 6s 4ms/step - loss: 0.4202 - accuracy: 0.8588 - val_loss: 0.4933 - val_accuracy: 0.8493\n",
            "Epoch 7/10\n",
            "1500/1500 [==============================] - 6s 4ms/step - loss: 0.4283 - accuracy: 0.8591 - val_loss: 0.5035 - val_accuracy: 0.8472\n",
            "Epoch 8/10\n",
            "1500/1500 [==============================] - 6s 4ms/step - loss: 0.4274 - accuracy: 0.8580 - val_loss: 0.5236 - val_accuracy: 0.8423\n",
            "Epoch 9/10\n",
            "1500/1500 [==============================] - 6s 4ms/step - loss: 0.4194 - accuracy: 0.8615 - val_loss: 0.4771 - val_accuracy: 0.8543\n",
            "Epoch 10/10\n",
            "1500/1500 [==============================] - 6s 4ms/step - loss: 0.4148 - accuracy: 0.8605 - val_loss: 0.5281 - val_accuracy: 0.8396\n"
          ]
        }
      ]
    },
    {
      "cell_type": "code",
      "source": [
        "plt.plot(historico.history['accuracy'])\n",
        "plt.plot(historico.history['val_accuracy'])\n",
        "plt.title('Acurácia por épocas')\n",
        "plt.xlabel('Épocas')\n",
        "plt.ylabel('Acurácia')\n",
        "\n",
        "plt.legend(['Treino', 'Validação'])"
      ],
      "metadata": {
        "colab": {
          "base_uri": "https://localhost:8080/",
          "height": 315
        },
        "id": "NUf6V8MZgJMN",
        "outputId": "9db95a67-6170-41d2-c7aa-165ce5f37ba8"
      },
      "execution_count": null,
      "outputs": [
        {
          "output_type": "execute_result",
          "data": {
            "text/plain": [
              "<matplotlib.legend.Legend at 0x7fc89cd0b510>"
            ]
          },
          "metadata": {},
          "execution_count": 142
        },
        {
          "output_type": "display_data",
          "data": {
            "text/plain": [
              "<Figure size 432x288 with 1 Axes>"
            ],
            "image/png": "[encoded data removed]"
          },
          "metadata": {
            "needs_background": "light"
          }
        }
      ]
    },
    {
      "cell_type": "code",
      "source": [
        "plt.plot(historico.history['loss'])\n",
        "plt.plot(historico.history['val_loss'])\n",
        "plt.title('Perda por épocas')\n",
        "plt.xlabel('Épocas')\n",
        "plt.ylabel('Perda')\n",
        "\n",
        "plt.legend(['Treino', 'Validação'])"
      ],
      "metadata": {
        "colab": {
          "base_uri": "https://localhost:8080/",
          "height": 315
        },
        "id": "Vwgi6bzQgJJS",
        "outputId": "042bcd35-78d5-4dad-c765-2194316845eb"
      },
      "execution_count": null,
      "outputs": [
        {
          "output_type": "execute_result",
          "data": {
            "text/plain": [
              "<matplotlib.legend.Legend at 0x7fc8a3567990>"
            ]
          },
          "metadata": {},
          "execution_count": 143
        },
        {
          "output_type": "display_data",
          "data": {
            "text/plain": [
              "<Figure size 432x288 with 1 Axes>"
            ],
            "image/png": "[encoded data removed]"
          },
          "metadata": {
            "needs_background": "light"
          }
        }
      ]
    },
    {
      "cell_type": "markdown",
      "source": [
        "## **Salvando o modelo**"
      ],
      "metadata": {
        "id": "0-VeTscaiDuo"
      }
    },
    {
      "cell_type": "code",
      "source": [
        "modelo.compile(optimizer='adam', \n",
        "               loss='sparse_categorical_crossentropy',\n",
        "               metrics=['accuracy'])\n",
        "historico = modelo.fit(imagens_treino, identificacoes_treino, epochs=5, validation_split=0.2)"
      ],
      "metadata": {
        "colab": {
          "base_uri": "https://localhost:8080/"
        },
        "id": "8s-ZC1J_gJHX",
        "outputId": "dd55aa84-cffc-4c0d-a9e2-ebe91c2fd66a"
      },
      "execution_count": null,
      "outputs": [
        {
          "output_type": "stream",
          "name": "stdout",
          "text": [
            "Epoch 1/5\n",
            "1500/1500 [==============================] - 6s 4ms/step - loss: 0.4297 - accuracy: 0.8576 - val_loss: 0.5873 - val_accuracy: 0.8338\n",
            "Epoch 2/5\n",
            "1500/1500 [==============================] - 5s 3ms/step - loss: 0.4235 - accuracy: 0.8611 - val_loss: 0.5140 - val_accuracy: 0.8462\n",
            "Epoch 3/5\n",
            "1500/1500 [==============================] - 5s 4ms/step - loss: 0.4239 - accuracy: 0.8572 - val_loss: 0.5529 - val_accuracy: 0.8351\n",
            "Epoch 4/5\n",
            "1500/1500 [==============================] - 5s 4ms/step - loss: 0.4304 - accuracy: 0.8605 - val_loss: 0.5348 - val_accuracy: 0.8441\n",
            "Epoch 5/5\n",
            "1500/1500 [==============================] - 5s 4ms/step - loss: 0.4091 - accuracy: 0.8645 - val_loss: 0.5573 - val_accuracy: 0.8476\n"
          ]
        }
      ]
    },
    {
      "cell_type": "code",
      "source": [
        "plt.plot(historico.history['accuracy'])\n",
        "plt.plot(historico.history['val_accuracy'])\n",
        "plt.title('Acurácia por épocas')\n",
        "plt.xlabel('Épocas')\n",
        "plt.ylabel('Acurácia')\n",
        "\n",
        "plt.legend(['Treino', 'Validação'])"
      ],
      "metadata": {
        "colab": {
          "base_uri": "https://localhost:8080/",
          "height": 315
        },
        "id": "9PS8P4lfgJD6",
        "outputId": "255d901b-0372-4d0b-90f0-8293317dfad8"
      },
      "execution_count": null,
      "outputs": [
        {
          "output_type": "execute_result",
          "data": {
            "text/plain": [
              "<matplotlib.legend.Legend at 0x7fc8a3459390>"
            ]
          },
          "metadata": {},
          "execution_count": 145
        },
        {
          "output_type": "display_data",
          "data": {
            "text/plain": [
              "<Figure size 432x288 with 1 Axes>"
            ],
            "image/png": "[encoded data removed]"
          },
          "metadata": {
            "needs_background": "light"
          }
        }
      ]
    },
    {
      "cell_type": "code",
      "source": [
        "plt.plot(historico.history['loss'])\n",
        "plt.plot(historico.history['val_loss'])\n",
        "plt.title('Perda por épocas')\n",
        "plt.xlabel('Épocas')\n",
        "plt.ylabel('Perda')\n",
        "\n",
        "plt.legend(['Treino', 'Validação'])"
      ],
      "metadata": {
        "colab": {
          "base_uri": "https://localhost:8080/",
          "height": 315
        },
        "id": "69-ak6rPgJAx",
        "outputId": "4f237e52-d2b7-4967-c9b0-bb17fc81c7eb"
      },
      "execution_count": null,
      "outputs": [
        {
          "output_type": "execute_result",
          "data": {
            "text/plain": [
              "<matplotlib.legend.Legend at 0x7fc8a3514650>"
            ]
          },
          "metadata": {},
          "execution_count": 146
        },
        {
          "output_type": "display_data",
          "data": {
            "text/plain": [
              "<Figure size 432x288 with 1 Axes>"
            ],
            "image/png": "[encoded data removed]"
          },
          "metadata": {
            "needs_background": "light"
          }
        }
      ]
    },
    {
      "cell_type": "code",
      "source": [
        "modelo = keras.Sequential([\n",
        "  keras.layers.Flatten(input_shape=(28,28)),\n",
        "  keras.layers.Dense(256, activation = tensorflow.nn.relu),\n",
        "  keras.layers.Dropout(0.2),\n",
        "  keras.layers.Dense(10, activation = tensorflow.nn.softmax)\n",
        "])\n",
        "\n",
        "modelo.compile(optimizer='adam', \n",
        "               loss='sparse_categorical_crossentropy',\n",
        "               metrics=['accuracy'])\n",
        "historico = modelo.fit(imagens_treino, identificacoes_treino, epochs=5, validation_split=0.2)"
      ],
      "metadata": {
        "colab": {
          "base_uri": "https://localhost:8080/"
        },
        "id": "XI6XGlRwgI-M",
        "outputId": "f5079fd0-d19e-4856-87ea-3716cdee1743"
      },
      "execution_count": null,
      "outputs": [
        {
          "output_type": "stream",
          "name": "stdout",
          "text": [
            "Epoch 1/5\n",
            "1500/1500 [==============================] - 6s 4ms/step - loss: 3.5588 - accuracy: 0.6461 - val_loss: 0.7186 - val_accuracy: 0.7107\n",
            "Epoch 2/5\n",
            "1500/1500 [==============================] - 5s 4ms/step - loss: 0.8394 - accuracy: 0.6847 - val_loss: 0.6487 - val_accuracy: 0.7575\n",
            "Epoch 3/5\n",
            "1500/1500 [==============================] - 6s 4ms/step - loss: 0.8080 - accuracy: 0.6922 - val_loss: 0.7508 - val_accuracy: 0.7067\n",
            "Epoch 4/5\n",
            "1500/1500 [==============================] - 6s 4ms/step - loss: 0.7958 - accuracy: 0.7012 - val_loss: 0.6683 - val_accuracy: 0.7243\n",
            "Epoch 5/5\n",
            "1500/1500 [==============================] - 6s 4ms/step - loss: 0.7697 - accuracy: 0.7240 - val_loss: 0.5697 - val_accuracy: 0.7964\n"
          ]
        }
      ]
    },
    {
      "cell_type": "code",
      "source": [
        "plt.plot(historico.history['accuracy'])\n",
        "plt.plot(historico.history['val_accuracy'])\n",
        "plt.title('Acurácia por épocas')\n",
        "plt.xlabel('Épocas')\n",
        "plt.ylabel('Acurácia')\n",
        "\n",
        "plt.legend(['Treino', 'Validação'])"
      ],
      "metadata": {
        "colab": {
          "base_uri": "https://localhost:8080/",
          "height": 315
        },
        "id": "giFkqgVDgI7j",
        "outputId": "38d110ad-e540-4457-e5c1-74c4c9552c63"
      },
      "execution_count": null,
      "outputs": [
        {
          "output_type": "execute_result",
          "data": {
            "text/plain": [
              "<matplotlib.legend.Legend at 0x7fc89cb22a10>"
            ]
          },
          "metadata": {},
          "execution_count": 148
        },
        {
          "output_type": "display_data",
          "data": {
            "text/plain": [
              "<Figure size 432x288 with 1 Axes>"
            ],
            "image/png": "[encoded data removed]"
          },
          "metadata": {
            "needs_background": "light"
          }
        }
      ]
    },
    {
      "cell_type": "code",
      "source": [
        "plt.plot(historico.history['loss'])\n",
        "plt.plot(historico.history['val_loss'])\n",
        "plt.title('Perda por épocas')\n",
        "plt.xlabel('Épocas')\n",
        "plt.ylabel('Perda')\n",
        "\n",
        "plt.legend(['Treino', 'Validação'])"
      ],
      "metadata": {
        "colab": {
          "base_uri": "https://localhost:8080/",
          "height": 315
        },
        "id": "UKBvfG2LgI5J",
        "outputId": "30fc67e4-783f-4672-d390-a2b4c23bbf61"
      },
      "execution_count": null,
      "outputs": [
        {
          "output_type": "execute_result",
          "data": {
            "text/plain": [
              "<matplotlib.legend.Legend at 0x7fc89ca6d390>"
            ]
          },
          "metadata": {},
          "execution_count": 149
        },
        {
          "output_type": "display_data",
          "data": {
            "text/plain": [
              "<Figure size 432x288 with 1 Axes>"
            ],
            "image/png": "[encoded data removed]"
          },
          "metadata": {
            "needs_background": "light"
          }
        }
      ]
    },
    {
      "cell_type": "code",
      "source": [
        "modelo.save('modelo.h5')\n",
        "modelo_salvo = load_model('modelo.h5')"
      ],
      "metadata": {
        "id": "5yJaHI-zgI2C"
      },
      "execution_count": null,
      "outputs": []
    },
    {
      "cell_type": "code",
      "source": [
        "testes_modelo_salvo = modelo_salvo.predict(imagens_teste)\n",
        "print('Resultado testes:', np.argmax(testes_modelo_salvo[0]))\n",
        "print('Número de imagem de testes:', identificacoes_teste[0])"
      ],
      "metadata": {
        "colab": {
          "base_uri": "https://localhost:8080/"
        },
        "id": "o8oJoT8UgIzM",
        "outputId": "86d06e11-8642-4c88-9dd8-0ed3d6069bad"
      },
      "execution_count": null,
      "outputs": [
        {
          "output_type": "stream",
          "name": "stdout",
          "text": [
            "Resultado testes: 9\n",
            "Número de imagem de testes: 9\n"
          ]
        }
      ]
    }
  ]
}